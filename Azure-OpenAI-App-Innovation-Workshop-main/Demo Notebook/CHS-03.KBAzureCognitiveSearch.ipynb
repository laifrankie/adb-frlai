{
 "cells": [
  {
   "cell_type": "code",
   "execution_count": 1,
   "metadata": {
    "dotnet_interactive": {
     "language": "csharp"
    },
    "polyglot_notebook": {
     "kernelName": "csharp"
    },
    "vscode": {
     "languageId": "polyglot-notebook"
    }
   },
   "outputs": [],
   "source": [
    "var search = \"什么是三高四新\";"
   ]
  },
  {
   "cell_type": "code",
   "execution_count": 2,
   "metadata": {
    "dotnet_interactive": {
     "language": "csharp"
    },
    "polyglot_notebook": {
     "kernelName": "csharp"
    },
    "vscode": {
     "languageId": "polyglot-notebook"
    }
   },
   "outputs": [
    {
     "data": {
      "text/html": [
       "<div><div></div><div></div><div><strong>Installed Packages</strong><ul><li><span>Azure.Search.Documents, 11.5.0-beta.2</span></li></ul></div></div>"
      ]
     },
     "metadata": {},
     "output_type": "display_data"
    }
   ],
   "source": [
    "#r \"nuget: Azure.Search.Documents, 11.5.0-beta.2\""
   ]
  },
  {
   "cell_type": "code",
   "execution_count": 3,
   "metadata": {
    "dotnet_interactive": {
     "language": "csharp"
    },
    "polyglot_notebook": {
     "kernelName": "csharp"
    },
    "vscode": {
     "languageId": "polyglot-notebook"
    }
   },
   "outputs": [],
   "source": [
    "using System;\n",
    "using System.Net;\n",
    "using System.Net.Http;\n",
    "using System.Net.Http.Headers;\n",
    "using System.Threading.Tasks;\n",
    "using System.Text;\n",
    "using System.Text.Json;\n",
    "using System.IO;\n",
    "using System.Collections.Generic;\n",
    "using Azure;\n",
    "using Azure.Search.Documents;\n",
    "using Azure.Search.Documents.Indexes;\n",
    "using Azure.Search.Documents.Indexes.Models;\n",
    "using Azure.Search.Documents.Models;"
   ]
  },
  {
   "cell_type": "code",
   "execution_count": 4,
   "metadata": {
    "dotnet_interactive": {
     "language": "csharp"
    },
    "polyglot_notebook": {
     "kernelName": "csharp"
    },
    "vscode": {
     "languageId": "polyglot-notebook"
    }
   },
   "outputs": [],
   "source": [
    "string serviceName = \"\";\n",
    "string apiKey = \"\";\n",
    "string indexName = \"azureaikb-index\";"
   ]
  },
  {
   "cell_type": "code",
   "execution_count": 5,
   "metadata": {
    "dotnet_interactive": {
     "language": "csharp"
    },
    "polyglot_notebook": {
     "kernelName": "csharp"
    },
    "vscode": {
     "languageId": "polyglot-notebook"
    }
   },
   "outputs": [],
   "source": [
    "Uri serviceEndpoint = new Uri($\"https://{serviceName}.search.windows.net/indexes/{indexName}/docs?api-version=2021-04-30-Preview\");\n",
    "\n",
    "//&search=9&queryLanguage=zh-CN&queryType=semantic&captions=extractive&answers=extractive%7Ccount-3&semanticConfiguration=demo"
   ]
  },
  {
   "cell_type": "code",
   "execution_count": 6,
   "metadata": {
    "dotnet_interactive": {
     "language": "csharp"
    },
    "polyglot_notebook": {
     "kernelName": "csharp"
    },
    "vscode": {
     "languageId": "polyglot-notebook"
    }
   },
   "outputs": [],
   "source": [
    "var uriBase = $\"https://{serviceName}.search.windows.net/indexes/{indexName}/docs?api-version=2021-04-30-Preview\";"
   ]
  },
  {
   "cell_type": "code",
   "execution_count": 7,
   "metadata": {
    "dotnet_interactive": {
     "language": "csharp"
    },
    "polyglot_notebook": {
     "kernelName": "csharp"
    },
    "vscode": {
     "languageId": "polyglot-notebook"
    }
   },
   "outputs": [],
   "source": [
    "var uriQuery = uriBase + \"&queryLanguage=zh-CN&queryType=semantic&captions=extractive&answers=extractive%7Ccount-3&semanticConfiguration=demo&search=\" + \"什么是三高四新\";\n"
   ]
  },
  {
   "cell_type": "code",
   "execution_count": 8,
   "metadata": {
    "dotnet_interactive": {
     "language": "csharp"
    },
    "polyglot_notebook": {
     "kernelName": "csharp"
    },
    "vscode": {
     "languageId": "polyglot-notebook"
    }
   },
   "outputs": [
    {
     "data": {
      "text/plain": [
       "https://azure-ai-kb-search-service.search.windows.net/indexes/azureaikb-index/docs?api-version=2021-04-30-Preview&queryLanguage=zh-CN&queryType=semantic&captions=extractive&answers=extractive%7Ccount-3&semanticConfiguration=demo&search=什么是三高四新"
      ]
     },
     "metadata": {},
     "output_type": "display_data"
    }
   ],
   "source": [
    "uriQuery"
   ]
  },
  {
   "cell_type": "code",
   "execution_count": 9,
   "metadata": {
    "dotnet_interactive": {
     "language": "csharp"
    },
    "polyglot_notebook": {
     "kernelName": "csharp"
    },
    "vscode": {
     "languageId": "polyglot-notebook"
    }
   },
   "outputs": [],
   "source": [
    "WebRequest request = WebRequest.Create(uriQuery);\n",
    "request.Headers[\"api-key\"] = apiKey;\n",
    "HttpWebResponse response = (HttpWebResponse)request.GetResponseAsync().Result;\n",
    "string json = new StreamReader(response.GetResponseStream()).ReadToEnd();"
   ]
  },
  {
   "cell_type": "code",
   "execution_count": 10,
   "metadata": {
    "dotnet_interactive": {
     "language": "csharp"
    },
    "polyglot_notebook": {
     "kernelName": "csharp"
    },
    "vscode": {
     "languageId": "polyglot-notebook"
    }
   },
   "outputs": [
    {
     "data": {
      "text/plain": [
       "{\"@odata.context\":\"https://azure-ai-kb-search-service.search.windows.net/indexes/azureaikb-index/$metadata#docs(*)\",\"@search.answers\":[{\"key\":\"aHR0cHM6Ly9henVyZWFpa2JzdG9yYWdlLmJsb2IuY29yZS53aW5kb3dzLm5ldC9kb2NzdHJvYWdlL2RlbW8uZG9jeA2\",\"text\":\"\\u4e09\\u4e2a\\u9ad8\\u5730\\u56db\\u65b0\\u4f7f\\u547d\\u662f\\u4e60\\u8fd1\\u5e73\\u603b\\u4e66\\u8bb0\\u4ece\\u6218\\u7565\\u548c\\u5168\\u5c40\\u9ad8\\u5ea6\\u5bf9\\u6e56\\u5357\\u4f5c\\u51fa\\u7684\\u79d1\\u5b66\\u6307\\u5f15,\\u6784\\u6210\\u4e86\\u5341\\u56db\\u4e94\\u4e43\\u81f3\\u66f4\\u957f\\u4e00\\u4e2a\\u65f6\\u671f\\u6e56\\u5357\\u53d1\\u5c55\\u7684\\u6307\\u5bfc\\u601d\\u60f3\\u548c\\u884c\\u52a8\\u7eb2\\u9886\\u3002 2020\\u5e74\\u768412\\u6708,\\u6e56\\u5357\\u7701\\u59d4\\u5341\\u4e00\\u5c4a12\\u6b21\\u4f1a\\u8bae\\u3002 \\u5728\\u6df1\\u5165\\u5206\\u6790\\u6e56\\u5357\\u5f00\\u542f\\u5168\\u9762\\u5efa\\u8bbe\\u793e\\u4f1a\\u4e3b\\u4e49\\u73b0\\u4ee3\\u5316\\u65b0\\u5f81\\u7a0b\\u9762\\u4e34\\u7684\\u5f62\\u52bf\\u4efb\\u52a1\\u3002 \\u5ba1\\u8bae\\u901a\\u8fc7\\u4e2d\\u5171\\u6e56\\u5357\\u7701\\u59d4\\u5173\\u4e8e\\u5236\\u5b9a\\u6e56\\u5357\\u7701\\u56fd\\u6c11\\u7ecf\\u6d4e\\u548c\\u793e\\u4f1a\\u53d1\\u5c55\\u7b2c\\u5341\\u56db\\u4e2a\\u4e94\\u5e74\\u89c4\\u5212\\u548c2035\\u5e74\\u8fdc\\u666f\\u76ee\\u6807\\u7684\\u5efa\\u8bae\\u662f\\u65d7\\u5e1c\\u9c9c\\u660e\\u7684\\u63d0\\u51fa\\u5b9e\\u65bd\\u4e09\\u9ad8\\u56db\\u65b0\\u6218\\u7565\\uff0c\\u662f\\u6df1\\u523b\\u9886\\u4f1a\\u4e60\\u8fd1\\u5e73\\u603b\\u4e66\\u8bb0\\u91cd\\u8981\\u8bb2\\u8bdd\\u7cbe\\u795e,\\u7efc\\u5408\\u5404\\u65b9\\u9762\\u610f\\u89c1\\u5efa\\u8bae\\uff0c\\u987a\\u5e94\\u65b0\\u9636\\u6bb5\\u6e56\\u5357\\u53d1\\u5c55\\u505a\\u51fa\\u7684\\u91cd\\u8981\\u51b3\\u7b56\\u3002 2021\\u5e7411\\u6708\\u53ec\\u5f00\\u7684\\u7701\\u7b2c12\\u6b21\\u515a\\u4ee3\\u4f1a\\u660e\\u786e\\uff0c\\u5c06\\u4e09\\u9ad8\\u56db\\u65b0\\u6218\\u7565\\u4f5c\\u4e3a\\u6e56\\u5357\\u53d1\\u5c55\\u7684\\u6218\\u7565\\u5b9a\\u4f4d\\uff0c\\u6307\\u51fa\\u8981\\u575a\\u6301\\u4ee5\\u4e60\\u8fd1\\u5e73\\u65b0\\u65f6\\u4ee3\\u4e2d\\u56fd\\u7279\\u8272\\u793e\\u4f1a\\u4e3b\\u4e49\\u601d\\u60f3\\u4e3a\\u6307\\u5bfc\\uff0c\\u575a\\u5b9a\\u4e0d\\u79fb\\u6cbf\\u7740\\u4e60\\u8fd1\\u5e73\\u603b\\u4e66\\u8bb0\\u6307\\u5f15\\u7684\\u65b9\\u5411\\u524d\\u8fdb\\uff0c\\u7262\\u8bb0\\u5631\\u6258\\u4e0d\\u8d1f\\u4f7f\\u547d\\u5e72\\u5728\\u5b9e\\u5904\\u8d70\\u5728\\u524d\\u5217\\u3002\",\"highlights\":\"\\u4e09\\u4e2a\\u9ad8\\u5730\\u56db\\u65b0\\u4f7f\\u547d\\u662f<em>\\u4e60\\u8fd1\\u5e73\\u603b\\u4e66\\u8bb0\\u4ece\\u6218\\u7565\\u548c\\u5168\\u5c40\\u9ad8\\u5ea6\\u5bf9\\u6e56\\u5357\\u4f5c\\u51fa\\u7684\\u79d1\\u5b66\\u6307\\u5f15,\\u6784\\u6210\\u4e86\\u5341\\u56db\\u4e94\\u4e43\\u81f3\\u66f4\\u957f\\u4e00\\u4e2a\\u65f6\\u671f\\u6e56\\u5357\\u53d1\\u5c55\\u7684\\u6307\\u5bfc\\u601d\\u60f3\\u548c\\u884c\\u52a8\\u7eb2\\u9886</em>\\u3002 2020\\u5e74\\u768412\\u6708,\\u6e56\\u5357\\u7701\\u59d4\\u5341\\u4e00\\u5c4a12\\u6b21\\u4f1a\\u8bae\\u3002 \\u5728\\u6df1\\u5165\\u5206\\u6790\\u6e56\\u5357\\u5f00\\u542f\\u5168\\u9762\\u5efa\\u8bbe\\u793e\\u4f1a\\u4e3b\\u4e49\\u73b0\\u4ee3\\u5316\\u65b0\\u5f81\\u7a0b\\u9762\\u4e34\\u7684\\u5f62\\u52bf\\u4efb\\u52a1\\u3002 \\u5ba1\\u8bae\\u901a\\u8fc7\\u4e2d\\u5171\\u6e56\\u5357\\u7701\\u59d4\\u5173\\u4e8e\\u5236\\u5b9a\\u6e56\\u5357\\u7701\\u56fd\\u6c11\\u7ecf\\u6d4e\\u548c\\u793e\\u4f1a\\u53d1\\u5c55\\u7b2c\\u5341\\u56db\\u4e2a\\u4e94\\u5e74\\u89c4\\u5212\\u548c2035\\u5e74\\u8fdc\\u666f\\u76ee\\u6807\\u7684\\u5efa\\u8bae\\u662f\\u65d7\\u5e1c\\u9c9c\\u660e\\u7684\\u63d0\\u51fa\\u5b9e\\u65bd\\u4e09\\u9ad8\\u56db\\u65b0\\u6218\\u7565\\uff0c\\u662f\\u6df1\\u523b\\u9886\\u4f1a\\u4e60\\u8fd1\\u5e73\\u603b\\u4e66\\u8bb0\\u91cd\\u8981\\u8bb2\\u8bdd\\u7cbe\\u795e,\\u7efc\\u5408\\u5404\\u65b9\\u9762\\u610f\\u89c1\\u5efa\\u8bae\\uff0c\\u987a\\u5e94\\u65b0\\u9636\\u6bb5\\u6e56\\u5357\\u53d1\\u5c55\\u505a\\u51fa\\u7684\\u91cd\\u8981\\u51b3\\u7b56\\u3002 2021\\u5e7411\\u6708\\u53ec\\u5f00\\u7684\\u7701\\u7b2c12\\u6b21\\u515a\\u4ee3\\u4f1a\\u660e\\u786e\\uff0c\\u5c06\\u4e09\\u9ad8\\u56db\\u65b0\\u6218\\u7565\\u4f5c\\u4e3a\\u6e56\\u5357\\u53d1\\u5c55\\u7684\\u6218\\u7565\\u5b9a\\u4f4d\\uff0c\\u6307\\u51fa\\u8981\\u575a\\u6301\\u4ee5\\u4e60\\u8fd1\\u5e73\\u65b0\\u65f6\\u4ee3\\u4e2d\\u56fd\\u7279\\u8272\\u793e\\u4f1a\\u4e3b\\u4e49\\u601d\\u60f3\\u4e3a\\u6307\\u5bfc\\uff0c\\u575a\\u5b9a\\u4e0d\\u79fb\\u6cbf\\u7740\\u4e60\\u8fd1\\u5e73\\u603b\\u4e66\\u8bb0\\u6307\\u5f15\\u7684\\u65b9\\u5411\\u524d\\u8fdb\\uff0c\\u7262\\u8bb0\\u5631\\u6258\\u4e0d\\u8d1f\\u4f7f\\u547d\\u5e72\\u5728\\u5b9e\\u5904\\u8d70\\u5728\\u524d\\u5217\\u3002\",\"score\":0.8935546875}],\"value\":[{\"@search.score\":8.19924,\"@search.rerankerScore\":2.445148468017578,\"@search.captions\":[{\"text\":\"\\u4e09\\u4e2a\\u9ad8\\u5730\\u56db\\u65b0\\u4f7f\\u547d\\u662f\\u4e60\\u8fd1\\u5e73\\u603b\\u4e66\\u8bb0\\u4ece\\u6218\\u7565\\u548c\\u5168\\u5c40\\u9ad8\\u5ea6\\u5bf9\\u6e56\\u5357\\u4f5c\\u51fa\\u7684\\u79d1\\u5b66\\u6307\\u5f15,\\u6784\\u6210\\u4e86\\u5341\\u56db\\u4e94\\u4e43\\u81f3\\u66f4\\u957f\\u4e00\\u4e2a\\u65f6\\u671f\\u6e56\\u5357\\u53d1\\u5c55\\u7684\\u6307\\u5bfc\\u601d\\u60f3\\u548c\\u884c\\u52a8\\u7eb2\\u9886\\u3002 2020\\u5e74\\u768412\\u6708,\\u6e56\\u5357\\u7701\\u59d4\\u5341\\u4e00\\u5c4a12\\u6b21\\u4f1a\\u8bae\\u3002 \\u5728\\u6df1\\u5165\\u5206\\u6790\\u6e56\\u5357\\u5f00\\u542f\\u5168\\u9762\\u5efa\\u8bbe\\u793e\\u4f1a\\u4e3b\\u4e49\\u73b0\\u4ee3\\u5316\\u65b0\\u5f81\\u7a0b\\u9762\\u4e34\\u7684\\u5f62\\u52bf\\u4efb\\u52a1\\u3002 \\u5ba1\\u8bae\\u901a\\u8fc7\\u4e2d\\u5171\\u6e56\\u5357\\u7701\\u59d4\\u5173\\u4e8e\\u5236\\u5b9a\\u6e56\\u5357\\u7701\\u56fd\\u6c11\\u7ecf\\u6d4e\\u548c\\u793e\\u4f1a\\u53d1\\u5c55\\u7b2c\\u5341\\u56db\\u4e2a\\u4e94\\u5e74\\u89c4\\u5212\\u548c2035\\u5e74\\u8fdc\\u666f\\u76ee\\u6807\\u7684\\u5efa\\u8bae\\u662f\\u65d7\\u5e1c\\u9c9c\\u660e\\u7684\\u63d0\\u51fa\\u5b9e\\u65bd\\u4e09\\u9ad8\\u56db\\u65b0\\u6218\\u7565\\uff0c\\u662f\\u6df1\\u523b\\u9886\\u4f1a\\u4e60\\u8fd1\\u5e73\\u603b\\u4e66\\u8bb0\\u91cd\\u8981\\u8bb2\\u8bdd\\u7cbe\\u795e,\\u7efc\\u5408\\u5404\\u65b9\\u9762\\u610f\\u89c1\\u5efa\\u8bae\\uff0c\\u987a\\u5e94\\u65b0\\u9636\\u6bb5\\u6e56\\u5357\\u53d1\\u5c55\\u505a\\u51fa\\u7684\\u91cd\\u8981\\u51b3\\u7b56\\u3002 2021\\u5e7411\\u6708\\u53ec\\u5f00\\u7684\\u7701\\u7b2c12\\u6b21\\u515a\\u4ee3\\u4f1a\\u660e\\u786e\\uff0c\\u5c06\\u4e09\\u9ad8\\u56db\\u65b0\\u6218\\u7565\\u4f5c\\u4e3a\\u6e56\\u5357\\u53d1\\u5c55\\u7684\\u6218\\u7565\\u5b9a\\u4f4d\\uff0c\\u6307\\u51fa\\u8981\\u575a\\u6301\\u4ee5\\u4e60\\u8fd1\\u5e73\\u65b0\\u65f6\\u4ee3\\u4e2d\\u56fd\\u7279\\u8272\\u793e\\u4f1a\\u4e3b\\u4e49\\u601d\\u60f3\\u4e3a\\u6307\\u5bfc\\uff0c\\u575a\\u5b9a\\u4e0d\\u79fb\\u6cbf\\u7740\\u4e60\\u8fd1\\u5e73\\u603b\\u4e66\\u8bb0\\u6307\\u5f15\\u7684\\u65b9\\u5411\\u524d\\u8fdb\\uff0c\\u7262\\u8bb0\\u5631\\u6258\\u4e0d\\u8d1f\\u4f7f\\u547d\\u5e72\\u5728\\u5b9e\\u5904\\u8d70\\u5728\\u524d\\u5217\\u3002\",\"highlights\":\"\"}],\"content\":\"\\u5404\\u4f4d\\u540c\\u5b66,\\u4eca\\u5929\\u6211\\u548c\\u5927\\u5bb6\\u4e00\\u8d77\\u6765\\u5b66\\u4e60\\u4ea4\\u6d41\\u5168\\u9762\\u843d\\u5b9e\\u201d\\u4e09\\u9ad8\\u56db\\u65b0\\u6218\\u7565\\u5b9a\\u4f4d\\u548c\\u4f7f\\u547d\\u4efb\\u52a1-\\u6e56\\u5357\\u5728\\u884c\\u52a8\\u201c\\u8fd9\\u4e2a\\u8bfe\\u9898\\u3002\\u4eca\\u5929,\\u6211\\u548c\\u5927\\u5bb6\\u4ea4\\u6d41\\u516d\\u4e2a\\u65b9\\u9762\\u7684\\u5185\\u5bb9\\uff1a\\u7b2c\\u4e00\\u662f\\u4e09\\u9ad8\\u56db\\u65b0\\u6218\\u7565\\u5b9a\\u4f4d\\u548c\\u4f7f\\u547d\\u4efb\\u52a1\\u7684\\u91cd\\u8981\\u610f\\u4e49,\\u7b2c\\u4e8c\\u662f\\u91cd\\u8981\\u5185\\u6db5,\\u7b2c\\u4e09\\u603b\\u4f53\\u8981\\u6c42,\\u7b2c\\u56db\\u53d1\\u5c55\\u8def\\u5f84,\\u7b2c\\u4e94\\u533a\\u57df\\u6218\\u7565\\uff0c\\u7b2c\\u516d\\u6218\\u7565\\u9f99\\u5934\\u3002\\u7b2c\\u4e00\\u4e2a\\u65b9\\u9762\\uff0c\\u4e09\\u9ad8\\u56db\\u65b0\\u6218\\u7565\\u5b9a\\u4f4d\\u548c\\u4f7f\\u547d\\u4efb\\u52a1\\u7684\\u91cd\\u8981\\u610f\\u4e49\\u30022020\\u5e74\\u76849\\u6708\\u4e60\\u8fd1\\u5e73\\u603b\\u4e66\\u8bb0\\u5728\\u6e56\\u5357\\u8003\\u5bdf\\u65f6\\u5f3a\\u8c03\\u8981\\u843d\\u5b9e\\u515a\\u4e2d\\u592e\\u7684\\u51b3\\u7b56\\u90e8\\u7f72\\uff0c\\u575a\\u6301\\u7a33\\u4e2d\\u6c42\\u8fdb\\u5de5\\u4f5c\\u603b\\u57fa\\u8c03\\uff0c\\u8d2f\\u5f7b\\u65b0\\u53d1\\u5c55\\u7406\\u5ff5\\uff1b\\u575a\\u6301\\u4ee5\\u4f9b\\u7ed9\\u4fa7\\u7ed3\\u6784\\u6027\\u6539\\u9769\\u4e3a\\u4e3b\\u7ebf,\\u51b3\\u80dc\\u5168\\u9762\\u5efa\\u6210\\u5c0f\\u5eb7\\u793e\\u4f1a\\uff0c\\u51b3\\u6218\\u8131\\u8d2b\\u653b\\u575a\\uff1b\\u7740\\u529b\\u6253\\u9020\\u56fd\\u5bb6\\u91cd\\u8981\\u5148\\u8fdb\\u5236\\u9020\\u4e1a\\u5177\\u6709\\u6838\\u5fc3\\u7ade\\u4e89\\u529b\\u7684\\u79d1\\u6280\\u521b\\u65b0\\u5185\\u9646\\u5730\\u533a\\u6539\\u9769\\u5f00\\u653e\\u7684\\u9ad8\\u5730\\u3002\\u8fd9\\u5c31\\u662f\\u6211\\u4eec\\u6240\\u8bf4\\u7684\\u4e09\\u4e2a\\u9ad8\\u5730\\u3002\\u5728\\u63a8\\u52a8\\u9ad8\\u8d28\\u91cf\\u53d1\\u5c55\\u4e0a\\u95ef\\u51fa\\u65b0\\u8def\\u5b50,\\u5728\\u6784\\u5efa\\u65b0\\u53d1\\u5c55\\u683c\\u5c40\\u4e2d\\u5c55\\u73b0\\u65b0\\u4f5c\\u4e3a,\\u5728\\u63a8\\u52a8\\u4e2d\\u90e8\\u5730\\u533a\\u5d1b\\u8d77\\u548c\\u957f\\u6c5f\\u7ecf\\u6d4e\\u5e26\\u53d1\\u5c55\\u4e2d\\u5f70\\u663e\\u65b0\\u62c5\\u5f53\\uff0c\\u594b\\u529b\\u8c31\\u5199\\u65b0\\u65f6\\u4ee3\\u575a\\u6301\\u548c\\u53d1\\u5c55\\u4e2d\\u56fd\\u7279\\u8272\\u793e\\u4f1a\\u4e3b\\u4e49\\u7684\\u6e56\\u5357\\u65b0\\u7bc7\\u7ae0\\u3002\\u8fd9\\u4e5f\\u5c31\\u662f\\u6211\\u4eec\\u6240\\u8bf4\\u7684\\u56db\\u65b0\\u3002\\u8fd9\\u4e2a18\\u53f7\\u7684\\u4e0a\\u5348\\uff0c\\u4e60\\u8fd1\\u5e73\\u542c\\u53d6\\u4e86\\u6e56\\u5357\\u7701\\u59d4\\u548c\\u7701\\u653f\\u5e9c\\u7684\\u5de5\\u4f5c\\u6c47\\u62a5\\uff0c\\u5bf9\\u6e56\\u5357\\u7684\\u5404\\u9879\\u5de5\\u4f5c\\u7ed9\\u4e88\\u4e86\\u80af\\u5b9a,\\u5bf9\\u6e56\\u5357\\u5de5\\u4f5c\\u63d0\\u51fa\\u4e86\\u4e94\\u4e2a\\u65b9\\u9762\\u7684\\u5177\\u4f53\\u8981\\u6c42\\uff1a\\u4e00\\u662f\\u8981\\u51c6\\u786e\\u8bc6\\u53d8\\uff0c\\u79d1\\u5b66\\u5e94\\u53d8\\uff0c\\u4e3b\\u52a8\\u6c42\\u53d8,\\u66f4\\u52a0\\u91cd\\u89c6\\u50ac\\u751f\\u9ad8\\u8d28\\u91cf\\u53d1\\u5c55\\u7684\\u65b0\\u52a8\\u80fd\\uff0c\\u65b0\\u4f18\\u52bf\\u3002\\u4e8c\\u662f\\u8981\\u575a\\u6301\\u519c\\u4e1a\\u519c\\u6751\\u4f18\\u5148\\u53d1\\u5c55\\u3002\\u63a8\\u52a8\\u5b9e\\u65bd\\u4e61\\u6751\\u632f\\u5174\\u6218\\u7565\\u3002\\u4e09\\u662f\\u8981\\u5728\\u751f\\u6001\\u6587\\u660e\\u5efa\\u8bbe\\u4e0a\\u5c55\\u73b0\\u65b0\\u4f5c\\u4e3a\\u4f20\\u627f\\u7ea2\\u8272\\u8bb0\\u5fc6,\\u8fd9\\u5c31\\u7ec4\\u6210\\u4e86\\u4e09\\u9ad8\\u56db\\u65b0\\u4e94\\u9879\\u4f7f\\u547d\\u8fd9\\u6837\\u4e00\\u4e2a\\u5b8f\\u5927\\u7684\\u7406\\u8bba\\u4f53\\u7cfb\\u3002\\u8fd9\\u91cc\\u6709\\u51e0\\u5f20\\u56fe\\u7247\\uff0c\\u5927\\u5bb6\\u770b\\u4e00\\u770b,\\u8fd9\\u4e00\\u5f20\\u662f\\u4e60\\u8fd1\\u5e73\\u603b\\u4e66\\u8bb0\\u5728\\u90f4\\u5dde\\u5e02\\u6c5d\\u57ce\\u53bf\\u6587\\u660e\\u7476\\u65cf\\u4e61\\u7b2c\\u4e00\\u7247\\u5c0f\\u5b66\\u548c\\u5b69\\u5b50\\u4eec\\u5728\\u4e00\\u8d77\\u7684\\u8fd9\\u4e2a\\u56fe\\u7247,\\u8fd9\\u4e00\\u5f20\\u662f\\u4e60\\u8fd1\\u5e73\\u603b\\u4e66\\u8bb0\\u5728\\u5cb3\\u9e93\\u4e66\\u9662\\u4e0e\\u6e56\\u5357\\u5927\\u5b66\\u7684\\u5e08\\u751f\\u4eec\\u8fdb\\u884c\\u4ea4\\u6d41\\u3002\\u4e60\\u603b\\u4e66\\u8bb0\\u5bf9\\u540c\\u5b66\\u4eec\\u8bf4\\uff0c\\u540c\\u5b66\\u4eec\\u5c06\\u662f\\u63a5\\u8fc7\\u5386\\u53f2\\u63a5\\u529b\\u68d2\\u7684\\u4e3b\\u529b\\u519b\\uff0c\\u5e0c\\u671b\\u5927\\u5bb6\\u4e0d\\u8d1f\\u65f6\\u4ee3\\u91cd\\u6258\\uff0c\\u4e0d\\u8d1f\\u9752\\u6625\\u97f6\\u534e,\\u6811\\u7acb\\u6b63\\u786e\\u7684\\u4e16\\u754c\\u89c2\\u4eba\\u751f\\u89c2\\u4ef7\\u503c\\u89c2\\uff0c\\u505a\\u597d\\u4eba\\u751f\\u9053\\u8def\\u3002\\u6e56\\u5357\\u5168\\u7701\\u5e72\\u90e8\\u7fa4\\u4f17\\u5728\\u5b66\\u4e60\\u8d2f\\u5f7b\\u4e60\\u8fd1\\u5e73\\u603b\\u4e66\\u8bb0\\u91cd\\u8981\\u8bb2\\u8bdd\\u7cbe\\u795e\\u548c\\u7f16\\u5236\\u5341\\u56db\\u4e94\\u89c4\\u5212\\u548c2035\\u5e74\\u8fdc\\u666f\\u76ee\\u6807\\u7684\\u89c4\\u5212\\u662f,\\u5927\\u5bb6\\u5728\\u8ba8\\u8bba\\u4e2d\\u4e00\\u81f4\\u8ba4\\u4e3a\\u3002\\u4e09\\u4e2a\\u9ad8\\u5730\\u56db\\u65b0\\u4f7f\\u547d\\u662f\\u4e60\\u8fd1\\u5e73\\u603b\\u4e66\\u8bb0\\u4ece\\u6218\\u7565\\u548c\\u5168\\u5c40\\u9ad8\\u5ea6\\u5bf9\\u6e56\\u5357\\u4f5c\\u51fa\\u7684\\u79d1\\u5b66\\u6307\\u5f15,\\u6784\\u6210\\u4e86\\u5341\\u56db\\u4e94\\u4e43\\u81f3\\u66f4\\u957f\\u4e00\\u4e2a\\u65f6\\u671f\\u6e56\\u5357\\u53d1\\u5c55\\u7684\\u6307\\u5bfc\\u601d\\u60f3\\u548c\\u884c\\u52a8\\u7eb2\\u9886\\u30022020\\u5e74\\u768412\\u6708,\\u6e56\\u5357\\u7701\\u59d4\\u5341\\u4e00\\u5c4a12\\u6b21\\u4f1a\\u8bae\\u3002\\u5728\\u6df1\\u5165\\u5206\\u6790\\u6e56\\u5357\\u5f00\\u542f\\u5168\\u9762\\u5efa\\u8bbe\\u793e\\u4f1a\\u4e3b\\u4e49\\u73b0\\u4ee3\\u5316\\u65b0\\u5f81\\u7a0b\\u9762\\u4e34\\u7684\\u5f62\\u52bf\\u4efb\\u52a1\\u3002\\u5ba1\\u8bae\\u901a\\u8fc7\\u4e2d\\u5171\\u6e56\\u5357\\u7701\\u59d4\\u5173\\u4e8e\\u5236\\u5b9a\\u6e56\\u5357\\u7701\\u56fd\\u6c11\\u7ecf\\u6d4e\\u548c\\u793e\\u4f1a\\u53d1\\u5c55\\u7b2c\\u5341\\u56db\\u4e2a\\u4e94\\u5e74\\u89c4\\u5212\\u548c2035\\u5e74\\u8fdc\\u666f\\u76ee\\u6807\\u7684\\u5efa\\u8bae\\u662f\\u65d7\\u5e1c\\u9c9c\\u660e\\u7684\\u63d0\\u51fa\\u5b9e\\u65bd\\u4e09\\u9ad8\\u56db\\u65b0\\u6218\\u7565\\uff0c\\u662f\\u6df1\\u523b\\u9886\\u4f1a\\u4e60\\u8fd1\\u5e73\\u603b\\u4e66\\u8bb0\\u91cd\\u8981\\u8bb2\\u8bdd\\u7cbe\\u795e,\\u7efc\\u5408\\u5404\\u65b9\\u9762\\u610f\\u89c1\\u5efa\\u8bae\\uff0c\\u987a\\u5e94\\u65b0\\u9636\\u6bb5\\u6e56\\u5357\\u53d1\\u5c55\\u505a\\u51fa\\u7684\\u91cd\\u8981\\u51b3\\u7b56\\u30022021\\u5e7411\\u6708\\u53ec\\u5f00\\u7684\\u7701\\u7b2c12\\u6b21\\u515a\\u4ee3\\u4f1a\\u660e\\u786e\\uff0c\\u5c06\\u4e09\\u9ad8\\u56db\\u65b0\\u6218\\u7565\\u4f5c\\u4e3a\\u6e56\\u5357\\u53d1\\u5c55\\u7684\\u6218\\u7565\\u5b9a\\u4f4d\\uff0c\\u6307\\u51fa\\u8981\\u575a\\u6301\\u4ee5\\u4e60\\u8fd1\\u5e73\\u65b0\\u65f6\\u4ee3\\u4e2d\\u56fd\\u7279\\u8272\\u793e\\u4f1a\\u4e3b\\u4e49\\u601d\\u60f3\\u4e3a\\u6307\\u5bfc\\uff0c\\u575a\\u5b9a\\u4e0d\\u79fb\\u6cbf\\u7740\\u4e60\\u8fd1\\u5e73\\u603b\\u4e66\\u8bb0\\u6307\\u5f15\\u7684\\u65b9\\u5411\\u524d\\u8fdb\\uff0c\\u7262\\u8bb0\\u5631\\u6258\\u4e0d\\u8d1f\\u4f7f\\u547d\\u5e72\\u5728\\u5b9e\\u5904\\u8d70\\u5728\\u524d\\u5217\\u3002\\u5168\\u9762\\u843d\\u5b9e\\u4e09\\u9ad8\\u56db\\u65b0\\u6218\\u7565\\u5b9a\\u4f4d\\u548c\\u4f7f\\u547d\\u4efb\\u52a1\\uff0c\\u5927\\u529b\\u63a8\\u52a8\\u9ad8\\u8d28\\u91cf\\u53d1\\u5c55,\\u4e3a\\u5168\\u9762\\u5efa\\u8bbe\\u793e\\u4f1a\\u4e3b\\u4e49\\u73b0\\u4ee3\\u5316\\u65b0\\u6e56\\u5357\\u800c\\u52aa\\u529b\\u594b\\u6597\\u3002\\u8fd9\\u91cc\\u662f\\u7701\\u5341\\u4e00\\u5c4a12\\u6b21\\u5168\\u4f1a\\u548c\\u7701\\u7b2c12\\u6b21\\u515a\\u4ee3\\u4f1a\\u7684\\u76f8\\u5173\\u7684\\u65b0\\u95fb\\u62a5\\u9053\\u56fe\\u7247\\u3002\\n\",\"metadata_storage_content_md5\":\"UigAS/Er8E2iuEjk5qchlQ==\",\"metadata_storage_path\":\"aHR0cHM6Ly9henVyZWFpa2JzdG9yYWdlLmJsb2IuY29yZS53aW5kb3dzLm5ldC9kb2NzdHJvYWdlL2RlbW8uZG9jeA2\",\"locations\":[\"\\u6e56\\u5357\",\"\\u957f\\u6c5f\",\"\\u4e2d\\u56fd\",\"\\u90f4\\u5dde\\u5e02\",\"\\u5cb3\\u9e93\\u4e66\\u9662\",\"\\u6e56\\u5357\\u7701\"],\"organizations\":[\"\\u4e09\\u9ad8\",\"\\u7701\\u59d4\",\"\\u6e56\\u5357\\u5927\\u5b66\",\"\\u4e2d\\u5171\\u6e56\\u5357\\u7701\\u59d4\"],\"keyphrases\":[\"\\u540c\\u5b66\",\"\\u5927\\u5bb6\\u4e00\\u8d77\",\"\\u4e09\\u9ad8\\u56db\\u65b0\\u6218\\u7565\\u5b9a\\u4f4d\",\"\\u4f7f\\u547d\\u4efb\\u52a1\",\"\\u6e56\\u5357\",\"\\u8bfe\\u9898\",\"\\u4eca\\u5929\",\"\\u5185\\u5bb9\",\"\\u91cd\\u8981\\u610f\\u4e49\",\"\\u91cd\\u8981\\u5185\\u6db5\",\"\\u603b\\u4f53\\u8981\\u6c42\",\"\\u7b2c\\u56db\\u53d1\\u5c55\\u8def\\u5f84\",\"\\u7b2c\\u4e94\\u533a\\u57df\\u6218\\u7565\",\"\\u7b2c\\u516d\\u6218\\u7565\\u9f99\\u5934\",\"\\u7b2c\\u4e00\\u4e2a\\u65b9\\u9762\",\"2020\\u5e74\",\"9\\u6708\",\"\\u4e60\\u8fd1\\u5e73\\u603b\\u4e66\\u8bb0\",\"\\u515a\\u4e2d\\u592e\",\"\\u51b3\\u7b56\\u90e8\\u7f72\",\"\\u7a33\\u4e2d\\u6c42\\u8fdb\\u5de5\\u4f5c\\u603b\\u57fa\\u8c03\",\"\\u53d1\\u5c55\\u7406\\u5ff5\",\"\\u4e3a\\u4e3b\\u7ebf\",\"\\u56fd\\u5bb6\\u91cd\\u8981\\u5148\\u8fdb\\u5236\\u9020\\u4e1a\",\"\\u6838\\u5fc3\\u7ade\\u4e89\\u529b\",\"\\u79d1\\u6280\\u521b\\u65b0\\u5185\\u9646\\u5730\\u533a\",\"\\u6539\\u9769\\u5f00\\u653e\",\"\\u9ad8\\u5730\",\"\\u9ad8\\u8d28\\u91cf\\u53d1\\u5c55\",\"\\u8def\\u5b50\",\"\\u53d1\\u5c55\\u683c\\u5c40\",\"\\u4f5c\\u4e3a\",\"\\u4e2d\\u90e8\\u5730\\u533a\",\"\\u957f\\u6c5f\\u7ecf\\u6d4e\\u5e26\\u53d1\\u5c55\",\"\\u65b0\\u65f6\\u4ee3\",\"\\u4e2d\\u56fd\\u7279\\u8272\\u793e\\u4f1a\\u4e3b\\u4e49\",\"\\u4e0a\\u5348\",\"\\u7701\\u653f\\u5e9c\",\"\\u5de5\\u4f5c\\u6c47\\u62a5\",\"\\u5404\\u9879\\u5de5\\u4f5c\",\"\\u80af\\u5b9a\",\"\\u5177\\u4f53\\u8981\\u6c42\",\"\\u65b0\\u52a8\\u80fd\",\"\\u519c\\u4e1a\\u519c\\u6751\",\"\\u4e61\\u6751\\u632f\\u5174\\u6218\\u7565\",\"\\u751f\\u6001\\u6587\\u660e\\u5efa\\u8bbe\",\"\\u7ea2\\u8272\\u8bb0\\u5fc6\",\"\\u4e09\\u9ad8\\u56db\\u65b0\\u4e94\\u9879\\u4f7f\\u547d\",\"\\u7406\\u8bba\\u4f53\\u7cfb\",\"\\u51e0\\u5f20\\u56fe\\u7247\",\"\\u90f4\\u5dde\\u5e02\",\"\\u6c5d\\u57ce\\u53bf\\u6587\\u660e\\u7476\\u65cf\\u4e61\\u7b2c\\u4e00\\u7247\\u5c0f\\u5b66\",\"\\u5b69\\u5b50\\u4eec\",\"\\u5cb3\\u9e93\\u4e66\\u9662\",\"\\u5e08\\u751f\\u4eec\",\"\\u4ea4\\u6d41\",\"\\u4e60\\u603b\\u4e66\\u8bb0\",\"\\u5386\\u53f2\\u63a5\\u529b\\u68d2\",\"\\u4e3b\\u529b\\u519b\",\"\\u5e0c\\u671b\\u5927\\u5bb6\",\"\\u65f6\\u4ee3\\u91cd\\u6258\",\"\\u534e\",\"\\u4e16\\u754c\\u89c2\\u4eba\\u751f\\u89c2\\u4ef7\\u503c\\u89c2\",\"\\u4eba\\u751f\\u9053\\u8def\",\"\\u5341\\u56db\\u4e94\\u89c4\\u5212\",\"2035\\u5e74\\u8fdc\\u666f\\u76ee\\u6807\",\"\\u8ba8\\u8bba\",\"\\u5168\\u5c40\\u9ad8\\u5ea6\",\"\\u79d1\\u5b66\\u6307\\u5f15\",\"\\u4e00\\u4e2a\\u65f6\\u671f\",\"\\u6307\\u5bfc\\u601d\\u60f3\",\"\\u884c\\u52a8\\u7eb2\\u9886\",\"12\\u6708\",\"\\u793e\\u4f1a\\u4e3b\\u4e49\\u73b0\\u4ee3\\u5316\\u65b0\\u5f81\\u7a0b\",\"\\u5f62\\u52bf\\u4efb\\u52a1\",\"\\u793e\\u4f1a\\u53d1\\u5c55\\u7b2c\\u5341\\u56db\\u4e2a\\u4e94\\u5e74\\u89c4\\u5212\",\"\\u5efa\\u8bae\",\"\\u91cd\\u8981\\u51b3\\u7b56\",\"2021\\u5e7411\\u6708\",\"\\u7701\\u7b2c12\\u6b21\\u515a\\u4ee3\\u4f1a\",\"\\u65b9\\u5411\",\"\\u524d\\u5217\",\"\\u7701\\u5341\\u4e00\\u5c4a12\\u6b21\\u5168\\u4f1a\",\"\\u65b0\\u95fb\\u62a5\\u9053\\u56fe\\u7247\"],\"language\":\"zh_chs\",\"sentiment\":\"[\\\"neutral\\\"]\",\"merged_content\":\"\\u5404\\u4f4d\\u540c\\u5b66,\\u4eca\\u5929\\u6211\\u548c\\u5927\\u5bb6\\u4e00\\u8d77\\u6765\\u5b66\\u4e60\\u4ea4\\u6d41\\u5168\\u9762\\u843d\\u5b9e\\u201d\\u4e09\\u9ad8\\u56db\\u65b0\\u6218\\u7565\\u5b9a\\u4f4d\\u548c\\u4f7f\\u547d\\u4efb\\u52a1-\\u6e56\\u5357\\u5728\\u884c\\u52a8\\u201c\\u8fd9\\u4e2a\\u8bfe\\u9898\\u3002\\u4eca\\u5929,\\u6211\\u548c\\u5927\\u5bb6\\u4ea4\\u6d41\\u516d\\u4e2a\\u65b9\\u9762\\u7684\\u5185\\u5bb9\\uff1a\\u7b2c\\u4e00\\u662f\\u4e09\\u9ad8\\u56db\\u65b0\\u6218\\u7565\\u5b9a\\u4f4d\\u548c\\u4f7f\\u547d\\u4efb\\u52a1\\u7684\\u91cd\\u8981\\u610f\\u4e49,\\u7b2c\\u4e8c\\u662f\\u91cd\\u8981\\u5185\\u6db5,\\u7b2c\\u4e09\\u603b\\u4f53\\u8981\\u6c42,\\u7b2c\\u56db\\u53d1\\u5c55\\u8def\\u5f84,\\u7b2c\\u4e94\\u533a\\u57df\\u6218\\u7565\\uff0c\\u7b2c\\u516d\\u6218\\u7565\\u9f99\\u5934\\u3002\\u7b2c\\u4e00\\u4e2a\\u65b9\\u9762\\uff0c\\u4e09\\u9ad8\\u56db\\u65b0\\u6218\\u7565\\u5b9a\\u4f4d\\u548c\\u4f7f\\u547d\\u4efb\\u52a1\\u7684\\u91cd\\u8981\\u610f\\u4e49\\u30022020\\u5e74\\u76849\\u6708\\u4e60\\u8fd1\\u5e73\\u603b\\u4e66\\u8bb0\\u5728\\u6e56\\u5357\\u8003\\u5bdf\\u65f6\\u5f3a\\u8c03\\u8981\\u843d\\u5b9e\\u515a\\u4e2d\\u592e\\u7684\\u51b3\\u7b56\\u90e8\\u7f72\\uff0c\\u575a\\u6301\\u7a33\\u4e2d\\u6c42\\u8fdb\\u5de5\\u4f5c\\u603b\\u57fa\\u8c03\\uff0c\\u8d2f\\u5f7b\\u65b0\\u53d1\\u5c55\\u7406\\u5ff5\\uff1b\\u575a\\u6301\\u4ee5\\u4f9b\\u7ed9\\u4fa7\\u7ed3\\u6784\\u6027\\u6539\\u9769\\u4e3a\\u4e3b\\u7ebf,\\u51b3\\u80dc\\u5168\\u9762\\u5efa\\u6210\\u5c0f\\u5eb7\\u793e\\u4f1a\\uff0c\\u51b3\\u6218\\u8131\\u8d2b\\u653b\\u575a\\uff1b\\u7740\\u529b\\u6253\\u9020\\u56fd\\u5bb6\\u91cd\\u8981\\u5148\\u8fdb\\u5236\\u9020\\u4e1a\\u5177\\u6709\\u6838\\u5fc3\\u7ade\\u4e89\\u529b\\u7684\\u79d1\\u6280\\u521b\\u65b0\\u5185\\u9646\\u5730\\u533a\\u6539\\u9769\\u5f00\\u653e\\u7684\\u9ad8\\u5730\\u3002\\u8fd9\\u5c31\\u662f\\u6211\\u4eec\\u6240\\u8bf4\\u7684\\u4e09\\u4e2a\\u9ad8\\u5730\\u3002\\u5728\\u63a8\\u52a8\\u9ad8\\u8d28\\u91cf\\u53d1\\u5c55\\u4e0a\\u95ef\\u51fa\\u65b0\\u8def\\u5b50,\\u5728\\u6784\\u5efa\\u65b0\\u53d1\\u5c55\\u683c\\u5c40\\u4e2d\\u5c55\\u73b0\\u65b0\\u4f5c\\u4e3a,\\u5728\\u63a8\\u52a8\\u4e2d\\u90e8\\u5730\\u533a\\u5d1b\\u8d77\\u548c\\u957f\\u6c5f\\u7ecf\\u6d4e\\u5e26\\u53d1\\u5c55\\u4e2d\\u5f70\\u663e\\u65b0\\u62c5\\u5f53\\uff0c\\u594b\\u529b\\u8c31\\u5199\\u65b0\\u65f6\\u4ee3\\u575a\\u6301\\u548c\\u53d1\\u5c55\\u4e2d\\u56fd\\u7279\\u8272\\u793e\\u4f1a\\u4e3b\\u4e49\\u7684\\u6e56\\u5357\\u65b0\\u7bc7\\u7ae0\\u3002\\u8fd9\\u4e5f\\u5c31\\u662f\\u6211\\u4eec\\u6240\\u8bf4\\u7684\\u56db\\u65b0\\u3002\\u8fd9\\u4e2a18\\u53f7\\u7684\\u4e0a\\u5348\\uff0c\\u4e60\\u8fd1\\u5e73\\u542c\\u53d6\\u4e86\\u6e56\\u5357\\u7701\\u59d4\\u548c\\u7701\\u653f\\u5e9c\\u7684\\u5de5\\u4f5c\\u6c47\\u62a5\\uff0c\\u5bf9\\u6e56\\u5357\\u7684\\u5404\\u9879\\u5de5\\u4f5c\\u7ed9\\u4e88\\u4e86\\u80af\\u5b9a,\\u5bf9\\u6e56\\u5357\\u5de5\\u4f5c\\u63d0\\u51fa\\u4e86\\u4e94\\u4e2a\\u65b9\\u9762\\u7684\\u5177\\u4f53\\u8981\\u6c42\\uff1a\\u4e00\\u662f\\u8981\\u51c6\\u786e\\u8bc6\\u53d8\\uff0c\\u79d1\\u5b66\\u5e94\\u53d8\\uff0c\\u4e3b\\u52a8\\u6c42\\u53d8,\\u66f4\\u52a0\\u91cd\\u89c6\\u50ac\\u751f\\u9ad8\\u8d28\\u91cf\\u53d1\\u5c55\\u7684\\u65b0\\u52a8\\u80fd\\uff0c\\u65b0\\u4f18\\u52bf\\u3002\\u4e8c\\u662f\\u8981\\u575a\\u6301\\u519c\\u4e1a\\u519c\\u6751\\u4f18\\u5148\\u53d1\\u5c55\\u3002\\u63a8\\u52a8\\u5b9e\\u65bd\\u4e61\\u6751\\u632f\\u5174\\u6218\\u7565\\u3002\\u4e09\\u662f\\u8981\\u5728\\u751f\\u6001\\u6587\\u660e\\u5efa\\u8bbe\\u4e0a\\u5c55\\u73b0\\u65b0\\u4f5c\\u4e3a\\u4f20\\u627f\\u7ea2\\u8272\\u8bb0\\u5fc6,\\u8fd9\\u5c31\\u7ec4\\u6210\\u4e86\\u4e09\\u9ad8\\u56db\\u65b0\\u4e94\\u9879\\u4f7f\\u547d\\u8fd9\\u6837\\u4e00\\u4e2a\\u5b8f\\u5927\\u7684\\u7406\\u8bba\\u4f53\\u7cfb\\u3002\\u8fd9\\u91cc\\u6709\\u51e0\\u5f20\\u56fe\\u7247\\uff0c\\u5927\\u5bb6\\u770b\\u4e00\\u770b,\\u8fd9\\u4e00\\u5f20\\u662f\\u4e60\\u8fd1\\u5e73\\u603b\\u4e66\\u8bb0\\u5728\\u90f4\\u5dde\\u5e02\\u6c5d\\u57ce\\u53bf\\u6587\\u660e\\u7476\\u65cf\\u4e61\\u7b2c\\u4e00\\u7247\\u5c0f\\u5b66\\u548c\\u5b69\\u5b50\\u4eec\\u5728\\u4e00\\u8d77\\u7684\\u8fd9\\u4e2a\\u56fe\\u7247,\\u8fd9\\u4e00\\u5f20\\u662f\\u4e60\\u8fd1\\u5e73\\u603b\\u4e66\\u8bb0\\u5728\\u5cb3\\u9e93\\u4e66\\u9662\\u4e0e\\u6e56\\u5357\\u5927\\u5b66\\u7684\\u5e08\\u751f\\u4eec\\u8fdb\\u884c\\u4ea4\\u6d41\\u3002\\u4e60\\u603b\\u4e66\\u8bb0\\u5bf9\\u540c\\u5b66\\u4eec\\u8bf4\\uff0c\\u540c\\u5b66\\u4eec\\u5c06\\u662f\\u63a5\\u8fc7\\u5386\\u53f2\\u63a5\\u529b\\u68d2\\u7684\\u4e3b\\u529b\\u519b\\uff0c\\u5e0c\\u671b\\u5927\\u5bb6\\u4e0d\\u8d1f\\u65f6\\u4ee3\\u91cd\\u6258\\uff0c\\u4e0d\\u8d1f\\u9752\\u6625\\u97f6\\u534e,\\u6811\\u7acb\\u6b63\\u786e\\u7684\\u4e16\\u754c\\u89c2\\u4eba\\u751f\\u89c2\\u4ef7\\u503c\\u89c2\\uff0c\\u505a\\u597d\\u4eba\\u751f\\u9053\\u8def\\u3002\\u6e56\\u5357\\u5168\\u7701\\u5e72\\u90e8\\u7fa4\\u4f17\\u5728\\u5b66\\u4e60\\u8d2f\\u5f7b\\u4e60\\u8fd1\\u5e73\\u603b\\u4e66\\u8bb0\\u91cd\\u8981\\u8bb2\\u8bdd\\u7cbe\\u795e\\u548c\\u7f16\\u5236\\u5341\\u56db\\u4e94\\u89c4\\u5212\\u548c2035\\u5e74\\u8fdc\\u666f\\u76ee\\u6807\\u7684\\u89c4\\u5212\\u662f,\\u5927\\u5bb6\\u5728\\u8ba8\\u8bba\\u4e2d\\u4e00\\u81f4\\u8ba4\\u4e3a\\u3002\\u4e09\\u4e2a\\u9ad8\\u5730\\u56db\\u65b0\\u4f7f\\u547d\\u662f\\u4e60\\u8fd1\\u5e73\\u603b\\u4e66\\u8bb0\\u4ece\\u6218\\u7565\\u548c\\u5168\\u5c40\\u9ad8\\u5ea6\\u5bf9\\u6e56\\u5357\\u4f5c\\u51fa\\u7684\\u79d1\\u5b66\\u6307\\u5f15,\\u6784\\u6210\\u4e86\\u5341\\u56db\\u4e94\\u4e43\\u81f3\\u66f4\\u957f\\u4e00\\u4e2a\\u65f6\\u671f\\u6e56\\u5357\\u53d1\\u5c55\\u7684\\u6307\\u5bfc\\u601d\\u60f3\\u548c\\u884c\\u52a8\\u7eb2\\u9886\\u30022020\\u5e74\\u768412\\u6708,\\u6e56\\u5357\\u7701\\u59d4\\u5341\\u4e00\\u5c4a12\\u6b21\\u4f1a\\u8bae\\u3002\\u5728\\u6df1\\u5165\\u5206\\u6790\\u6e56\\u5357\\u5f00\\u542f\\u5168\\u9762\\u5efa\\u8bbe\\u793e\\u4f1a\\u4e3b\\u4e49\\u73b0\\u4ee3\\u5316\\u65b0\\u5f81\\u7a0b\\u9762\\u4e34\\u7684\\u5f62\\u52bf\\u4efb\\u52a1\\u3002\\u5ba1\\u8bae\\u901a\\u8fc7\\u4e2d\\u5171\\u6e56\\u5357\\u7701\\u59d4\\u5173\\u4e8e\\u5236\\u5b9a\\u6e56\\u5357\\u7701\\u56fd\\u6c11\\u7ecf\\u6d4e\\u548c\\u793e\\u4f1a\\u53d1\\u5c55\\u7b2c\\u5341\\u56db\\u4e2a\\u4e94\\u5e74\\u89c4\\u5212\\u548c2035\\u5e74\\u8fdc\\u666f\\u76ee\\u6807\\u7684\\u5efa\\u8bae\\u662f\\u65d7\\u5e1c\\u9c9c\\u660e\\u7684\\u63d0\\u51fa\\u5b9e\\u65bd\\u4e09\\u9ad8\\u56db\\u65b0\\u6218\\u7565\\uff0c\\u662f\\u6df1\\u523b\\u9886\\u4f1a\\u4e60\\u8fd1\\u5e73\\u603b\\u4e66\\u8bb0\\u91cd\\u8981\\u8bb2\\u8bdd\\u7cbe\\u795e,\\u7efc\\u5408\\u5404\\u65b9\\u9762\\u610f\\u89c1\\u5efa\\u8bae\\uff0c\\u987a\\u5e94\\u65b0\\u9636\\u6bb5\\u6e56\\u5357\\u53d1\\u5c55\\u505a\\u51fa\\u7684\\u91cd\\u8981\\u51b3\\u7b56\\u30022021\\u5e7411\\u6708\\u53ec\\u5f00\\u7684\\u7701\\u7b2c12\\u6b21\\u515a\\u4ee3\\u4f1a\\u660e\\u786e\\uff0c\\u5c06\\u4e09\\u9ad8\\u56db\\u65b0\\u6218\\u7565\\u4f5c\\u4e3a\\u6e56\\u5357\\u53d1\\u5c55\\u7684\\u6218\\u7565\\u5b9a\\u4f4d\\uff0c\\u6307\\u51fa\\u8981\\u575a\\u6301\\u4ee5\\u4e60\\u8fd1\\u5e73\\u65b0\\u65f6\\u4ee3\\u4e2d\\u56fd\\u7279\\u8272\\u793e\\u4f1a\\u4e3b\\u4e49\\u601d\\u60f3\\u4e3a\\u6307\\u5bfc\\uff0c\\u575a\\u5b9a\\u4e0d\\u79fb\\u6cbf\\u7740\\u4e60\\u8fd1\\u5e73\\u603b\\u4e66\\u8bb0\\u6307\\u5f15\\u7684\\u65b9\\u5411\\u524d\\u8fdb\\uff0c\\u7262\\u8bb0\\u5631\\u6258\\u4e0d\\u8d1f\\u4f7f\\u547d\\u5e72\\u5728\\u5b9e\\u5904\\u8d70\\u5728\\u524d\\u5217\\u3002\\u5168\\u9762\\u843d\\u5b9e\\u4e09\\u9ad8\\u56db\\u65b0\\u6218\\u7565\\u5b9a\\u4f4d\\u548c\\u4f7f\\u547d\\u4efb\\u52a1\\uff0c\\u5927\\u529b\\u63a8\\u52a8\\u9ad8\\u8d28\\u91cf\\u53d1\\u5c55,\\u4e3a\\u5168\\u9762\\u5efa\\u8bbe\\u793e\\u4f1a\\u4e3b\\u4e49\\u73b0\\u4ee3\\u5316\\u65b0\\u6e56\\u5357\\u800c\\u52aa\\u529b\\u594b\\u6597\\u3002\\u8fd9\\u91cc\\u662f\\u7701\\u5341\\u4e00\\u5c4a12\\u6b21\\u5168\\u4f1a\\u548c\\u7701\\u7b2c12\\u6b21\\u515a\\u4ee3\\u4f1a\\u7684\\u76f8\\u5173\\u7684\\u65b0\\u95fb\\u62a5\\u9053\\u56fe\\u7247\\u3002\\n\",\"text\":[],\"layoutText\":[]}]}"
      ]
     },
     "metadata": {},
     "output_type": "display_data"
    }
   ],
   "source": [
    "json"
   ]
  },
  {
   "cell_type": "code",
   "execution_count": 11,
   "metadata": {
    "dotnet_interactive": {
     "language": "csharp"
    },
    "polyglot_notebook": {
     "kernelName": "csharp"
    },
    "vscode": {
     "languageId": "polyglot-notebook"
    }
   },
   "outputs": [],
   "source": [
    "var answer = JsonDocument.Parse(json).RootElement.GetProperty(\"@search.answers\").EnumerateArray().ToList();"
   ]
  },
  {
   "cell_type": "code",
   "execution_count": 12,
   "metadata": {
    "dotnet_interactive": {
     "language": "csharp"
    },
    "polyglot_notebook": {
     "kernelName": "csharp"
    },
    "vscode": {
     "languageId": "polyglot-notebook"
    }
   },
   "outputs": [
    {
     "data": {
      "text/html": [
       "<details class=\"dni-treeview\"><summary><span class=\"dni-code-hint\"><code>{&quot;key&quot;:&quot;aHR0cHM6Ly9henVyZWFpa2JzdG9yYWdlLmJsb2IuY29yZS53aW5kb3dzLm5ldC9kb2NzdHJvYWdlL2RlbW8uZG9jeA2&quot;,&quot;text&quot;:&quot;\\u4e09\\u4e2a\\u9ad8\\u5730\\u56db\\u65b0\\u4f7f\\u547d\\u662f\\u4e60\\u8fd1\\u5e73\\u603b\\u4e66\\u8bb0\\u4ece\\u6218\\u7565\\u548c\\u5168\\u5c40\\u9ad8\\u5ea6\\u5bf9\\u6e56\\u5357\\u4f5c\\u51fa\\u7684\\u79d1\\u5b66\\u6307\\u5f15,\\u6784\\u6210\\u4e86\\u5341\\u56db\\u4e94\\u4e43\\u81f3\\u66f4\\u957f\\u4e00\\u4e2a\\u65f6\\u671f\\u6e56\\u5357\\u53d1\\u5c55\\u7684\\u6307\\u5bfc\\u601d\\u60f3\\u548c\\u884c\\u52a8\\u7eb2\\u9886\\u3002 2020\\u5e74\\u768412\\u6708,\\u6e56\\u5357\\u7701\\u59d4\\u5341\\u4e00\\u5c4a12\\u6b21\\u4f1a\\u8bae\\u3002 \\u5728\\u6df1\\u5165\\u5206\\u6790\\u6e56\\u5357\\u5f00\\u542f\\u5168\\u9762\\u5efa\\u8bbe\\u793e\\u4f1a\\u4e3b\\u4e49\\u73b0\\u4ee3\\u5316\\u65b0\\u5f81\\u7a0b\\u9762\\u4e34\\u7684\\u5f62\\u52bf\\u4efb\\u52a1\\u3002 \\u5ba1\\u8bae\\u901a\\u8fc7\\u4e2d\\u5171\\u6e56\\u5357\\u7701\\u59d4\\u5173\\u4e8e\\u5236\\u5b9a\\u6e56\\u5357\\u7701\\u56fd\\u6c11\\u7ecf\\u6d4e\\u548c\\u793e\\u4f1a\\u53d1\\u5c55\\u7b2c\\u5341\\u56db\\u4e2a\\u4e94\\u5e74\\u89c4\\u5212\\u548c2035\\u5e74\\u8fdc\\u666f\\u76ee\\u6807\\u7684\\u5efa\\u8bae\\u662f\\u65d7\\u5e1c\\u9c9c\\u660e\\u7684\\u63d0\\u51fa\\u5b9e\\u65bd\\u4e09\\u9ad8\\u56db\\u65b0\\u6218\\u7565\\uff0c\\u662f\\u6df1\\u523b\\u9886\\u4f1a\\u4e60\\u8fd1\\u5e73\\u603b\\u4e66\\u8bb0\\u91cd\\u8981\\u8bb2\\u8bdd\\u7cbe\\u795e,\\u7efc\\u5408\\u5404\\u65b9\\u9762\\u610f\\u89c1\\u5efa\\u8bae\\uff0c\\u987a\\u5e94\\u65b0\\u9636\\u6bb5\\u6e56\\u5357\\u53d1\\u5c55\\u505a\\u51fa\\u7684\\u91cd\\u8981\\u51b3\\u7b56\\u3002 2021\\u5e7411\\u6708\\u53ec\\u5f00\\u7684\\u7701\\u7b2c12\\u6b21\\u515a\\u4ee3\\u4f1a\\u660e\\u786e\\uff0c\\u5c06\\u4e09\\u9ad8\\u56db\\u65b0\\u6218\\u7565\\u4f5c\\u4e3a\\u6e56\\u5357\\u53d1\\u5c55\\u7684\\u6218\\u7565\\u5b9a\\u4f4d\\uff0c\\u6307\\u51fa\\u8981\\u575a\\u6301\\u4ee5\\u4e60\\u8fd1\\u5e73\\u65b0\\u65f6\\u4ee3\\u4e2d\\u56fd\\u7279\\u8272\\u793e\\u4f1a\\u4e3b\\u4e49\\u601d\\u60f3\\u4e3a\\u6307\\u5bfc\\uff0c\\u575a\\u5b9a\\u4e0d\\u79fb\\u6cbf\\u7740\\u4e60\\u8fd1\\u5e73\\u603b\\u4e66\\u8bb0\\u6307\\u5f15\\u7684\\u65b9\\u5411\\u524d\\u8fdb\\uff0c\\u7262\\u8bb0\\u5631\\u6258\\u4e0d\\u8d1f\\u4f7f\\u547d\\u5e72\\u5728\\u5b9e\\u5904\\u8d70\\u5728\\u524d\\u5217\\u3002&quot;,&quot;highlights&quot;:&quot;\\u4e09\\u4e2a\\u9ad8\\u5730\\u56db\\u65b0\\u4f7f\\u547d\\u662f&lt;em&gt;\\u4e60\\u8fd1\\u5e73\\u603b\\u4e66\\u8bb0\\u4ece\\u6218\\u7565\\u548c\\u5168\\u5c40\\u9ad8\\u5ea6\\u5bf9\\u6e56\\u5357\\u4f5c\\u51fa\\u7684\\u79d1\\u5b66\\u6307\\u5f15,\\u6784\\u6210\\u4e86\\u5341\\u56db\\u4e94\\u4e43\\u81f3\\u66f4\\u957f\\u4e00\\u4e2a\\u65f6\\u671f\\u6e56\\u5357\\u53d1\\u5c55\\u7684\\u6307\\u5bfc\\u601d\\u60f3\\u548c\\u884c\\u52a8\\u7eb2\\u9886&lt;/em&gt;\\u3002 2020\\u5e74\\u768412\\u6708,\\u6e56\\u5357\\u7701\\u59d4\\u5341\\u4e00\\u5c4a12\\u6b21\\u4f1a\\u8bae\\u3002 \\u5728\\u6df1\\u5165\\u5206\\u6790\\u6e56\\u5357\\u5f00\\u542f\\u5168\\u9762\\u5efa\\u8bbe\\u793e\\u4f1a\\u4e3b\\u4e49\\u73b0\\u4ee3\\u5316\\u65b0\\u5f81\\u7a0b\\u9762\\u4e34\\u7684\\u5f62\\u52bf\\u4efb\\u52a1\\u3002 \\u5ba1\\u8bae\\u901a\\u8fc7\\u4e2d\\u5171\\u6e56\\u5357\\u7701\\u59d4\\u5173\\u4e8e\\u5236\\u5b9a\\u6e56\\u5357\\u7701\\u56fd\\u6c11\\u7ecf\\u6d4e\\u548c\\u793e\\u4f1a\\u53d1\\u5c55\\u7b2c\\u5341\\u56db\\u4e2a\\u4e94\\u5e74\\u89c4\\u5212\\u548c2035\\u5e74\\u8fdc\\u666f\\u76ee\\u6807\\u7684\\u5efa\\u8bae\\u662f\\u65d7\\u5e1c\\u9c9c\\u660e\\u7684\\u63d0\\u51fa\\u5b9e\\u65bd\\u4e09\\u9ad8\\u56db\\u65b0\\u6218\\u7565\\uff0c\\u662f\\u6df1\\u523b\\u9886\\u4f1a\\u4e60\\u8fd1\\u5e73\\u603b\\u4e66\\u8bb0\\u91cd\\u8981\\u8bb2\\u8bdd\\u7cbe\\u795e,\\u7efc\\u5408\\u5404\\u65b9\\u9762\\u610f\\u89c1\\u5efa\\u8bae\\uff0c\\u987a\\u5e94\\u65b0\\u9636\\u6bb5\\u6e56\\u5357\\u53d1\\u5c55\\u505a\\u51fa\\u7684\\u91cd\\u8981\\u51b3\\u7b56\\u3002 2021\\u5e7411\\u6708\\u53ec\\u5f00\\u7684\\u7701\\u7b2c12\\u6b21\\u515a\\u4ee3\\u4f1a\\u660e\\u786e\\uff0c\\u5c06\\u4e09\\u9ad8\\u56db\\u65b0\\u6218\\u7565\\u4f5c\\u4e3a\\u6e56\\u5357\\u53d1\\u5c55\\u7684\\u6218\\u7565\\u5b9a\\u4f4d\\uff0c\\u6307\\u51fa\\u8981\\u575a\\u6301\\u4ee5\\u4e60\\u8fd1\\u5e73\\u65b0\\u65f6\\u4ee3\\u4e2d\\u56fd\\u7279\\u8272\\u793e\\u4f1a\\u4e3b\\u4e49\\u601d\\u60f3\\u4e3a\\u6307\\u5bfc\\uff0c\\u575a\\u5b9a\\u4e0d\\u79fb\\u6cbf\\u7740\\u4e60\\u8fd1\\u5e73\\u603b\\u4e66\\u8bb0\\u6307\\u5f15\\u7684\\u65b9\\u5411\\u524d\\u8fdb\\uff0c\\u7262\\u8bb0\\u5631\\u6258\\u4e0d\\u8d1f\\u4f7f\\u547d\\u5e72\\u5728\\u5b9e\\u5904\\u8d70\\u5728\\u524d\\u5217\\u3002&quot;,&quot;score&quot;:0.8935546875}</code></span></summary><div><table><thead><tr></tr></thead><tbody><tr><td>key</td><td><span>&quot;aHR0cHM6Ly9henVyZWFpa2JzdG9yYWdlLmJsb2IuY29yZS53aW5kb3dzLm5ldC9kb2NzdHJvYWdlL2RlbW8uZG9jeA2&quot;</span></td></tr><tr><td>text</td><td><span>&quot;三个高地四新使命是习近平总书记从战略和全局高度对湖南作出的科学指引,构成了十四五乃至更长一个时期湖南发展的指导思想和行动纲领。 2020年的12月,湖南省委十一届12次会议。 在深入分析湖南开启全面建设社会主义现代化新征程面临的形势任务。 审议通过中共湖南省委关于制定湖南省国民经济和社会发展第十四个五年规划和2035年远景目标的建议是旗帜鲜明的提出实施三高四新战略，是深刻领会习近平总书记重要讲话精神,综合各方面意见建议，顺应新阶段湖南发展做出的重要决策。 2021年11月召开的省第12次党代会明确，将三高四新战略作为湖南发展的战略定位，指出要坚持以习近平新时代中国特色社会主义思想为指导，坚定不移沿着习近平总书记指引的方向前进，牢记嘱托不负使命干在实处走在前列。&quot;</span></td></tr><tr><td>highlights</td><td><span>&quot;三个高地四新使命是&lt;em&gt;习近平总书记从战略和全局高度对湖南作出的科学指引,构成了十四五乃至更长一个时期湖南发展的指导思想和行动纲领&lt;/em&gt;。 2020年的12月,湖南省委十一届12次会议。 在深入分析湖南开启全面建设社会主义现代化新征程面临的形势任务。 审议通过中共湖南省委关于制定湖南省国民经济和社会发展第十四个五年规划和2035年远景目标的建议是旗帜鲜明的提出实施三高四新战略，是深刻领会习近平总书记重要讲话精神,综合各方面意见建议，顺应新阶段湖南发展做出的重要决策。 2021年11月召开的省第12次党代会明确，将三高四新战略作为湖南发展的战略定位，指出要坚持以习近平新时代中国特色社会主义思想为指导，坚定不移沿着习近平总书记指引的方向前进，牢记嘱托不负使命干在实处走在前列。&quot;</span></td></tr><tr><td>score</td><td><span><div class=\"dni-plaintext\"><pre>0.8935547</pre></div></span></td></tr></tbody></table></div></details><style>\r\n",
       ".dni-code-hint {\r\n",
       "    font-style: italic;\r\n",
       "    overflow: hidden;\r\n",
       "    white-space: nowrap;\r\n",
       "}\r\n",
       ".dni-treeview {\r\n",
       "    white-space: nowrap;\r\n",
       "}\r\n",
       ".dni-treeview td {\r\n",
       "    vertical-align: top;\r\n",
       "    text-align: start;\r\n",
       "}\r\n",
       "details.dni-treeview {\r\n",
       "    padding-left: 1em;\r\n",
       "}\r\n",
       "table td {\r\n",
       "    text-align: start;\r\n",
       "}\r\n",
       "table tr { \r\n",
       "    vertical-align: top; \r\n",
       "    margin: 0em 0px;\r\n",
       "}\r\n",
       "table tr td pre \r\n",
       "{ \r\n",
       "    vertical-align: top !important; \r\n",
       "    margin: 0em 0px !important;\r\n",
       "} \r\n",
       "table th {\r\n",
       "    text-align: start;\r\n",
       "}\r\n",
       "</style>"
      ]
     },
     "metadata": {},
     "output_type": "display_data"
    }
   ],
   "source": [
    "answer[0]"
   ]
  },
  {
   "cell_type": "code",
   "execution_count": 13,
   "metadata": {
    "dotnet_interactive": {
     "language": "csharp"
    },
    "polyglot_notebook": {
     "kernelName": "csharp"
    },
    "vscode": {
     "languageId": "polyglot-notebook"
    }
   },
   "outputs": [
    {
     "data": {
      "text/html": [
       "<span>&quot;三个高地四新使命是习近平总书记从战略和全局高度对湖南作出的科学指引,构成了十四五乃至更长一个时期湖南发展的指导思想和行动纲领。 2020年的12月,湖南省委十一届12次会议。 在深入分析湖南开启全面建设社会主义现代化新征程面临的形势任务。 审议通过中共湖南省委关于制定湖南省国民经济和社会发展第十四个五年规划和2035年远景目标的建议是旗帜鲜明的提出实施三高四新战略，是深刻领会习近平总书记重要讲话精神,综合各方面意见建议，顺应新阶段湖南发展做出的重要决策。 2021年11月召开的省第12次党代会明确，将三高四新战略作为湖南发展的战略定位，指出要坚持以习近平新时代中国特色社会主义思想为指导，坚定不移沿着习近平总书记指引的方向前进，牢记嘱托不负使命干在实处走在前列。&quot;</span><style>\r\n",
       ".dni-code-hint {\r\n",
       "    font-style: italic;\r\n",
       "    overflow: hidden;\r\n",
       "    white-space: nowrap;\r\n",
       "}\r\n",
       ".dni-treeview {\r\n",
       "    white-space: nowrap;\r\n",
       "}\r\n",
       ".dni-treeview td {\r\n",
       "    vertical-align: top;\r\n",
       "    text-align: start;\r\n",
       "}\r\n",
       "details.dni-treeview {\r\n",
       "    padding-left: 1em;\r\n",
       "}\r\n",
       "table td {\r\n",
       "    text-align: start;\r\n",
       "}\r\n",
       "table tr { \r\n",
       "    vertical-align: top; \r\n",
       "    margin: 0em 0px;\r\n",
       "}\r\n",
       "table tr td pre \r\n",
       "{ \r\n",
       "    vertical-align: top !important; \r\n",
       "    margin: 0em 0px !important;\r\n",
       "} \r\n",
       "table th {\r\n",
       "    text-align: start;\r\n",
       "}\r\n",
       "</style>"
      ]
     },
     "metadata": {},
     "output_type": "display_data"
    }
   ],
   "source": [
    "answer[0].GetProperty(\"text\")"
   ]
  },
  {
   "cell_type": "code",
   "execution_count": 14,
   "metadata": {
    "dotnet_interactive": {
     "language": "csharp"
    },
    "polyglot_notebook": {
     "kernelName": "csharp"
    },
    "vscode": {
     "languageId": "polyglot-notebook"
    }
   },
   "outputs": [],
   "source": [
    "string strGptAnswer  = \"我不太了解\";"
   ]
  },
  {
   "cell_type": "code",
   "execution_count": 17,
   "metadata": {
    "dotnet_interactive": {
     "language": "csharp"
    },
    "polyglot_notebook": {
     "kernelName": "csharp"
    },
    "vscode": {
     "languageId": "polyglot-notebook"
    }
   },
   "outputs": [
    {
     "data": {
      "text/plain": [
       "三个高地四新使命是习近平总书记从战略和全局高度对湖南作出的科学指引,构成了十四五乃至更长一个时期湖南发展的指导思想和行动纲领。 2020年的12月,湖南省委十一届12次会议。 在深入分析湖南开启全面建设社会主义现代化新征程面临的形势任务。 审议通过中共湖南省委关于制定湖南省国民经济和社会发展第十四个五年规划和2035年远景目标的建议是旗帜鲜明的提出实施三高四新战略，是深刻领会习近平总书记重要讲话精神,综合各方面意见建议，顺应新阶段湖南发展做出的重要决策。 2021年11月召开的省第12次党代会明确，将三高四新战略作为湖南发展的战略定位，指出要坚持以习近平新时代中国特色社会主义思想为指导，坚定不移沿着习近平总书记指引的方向前进，牢记嘱托不负使命干在实处走在前列。"
      ]
     },
     "metadata": {},
     "output_type": "display_data"
    }
   ],
   "source": [
    "answer[0].GetProperty(\"text\").ToString()"
   ]
  }
 ],
 "metadata": {
  "language_info": {
   "name": "csharp"
  },
  "orig_nbformat": 4
 },
 "nbformat": 4,
 "nbformat_minor": 2
}
