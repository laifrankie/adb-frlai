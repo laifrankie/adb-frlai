{
 "cells": [
  {
   "attachments": {},
   "cell_type": "markdown",
   "metadata": {
    "dotnet_interactive": {
     "language": "csharp"
    },
    "polyglot_notebook": {
     "kernelName": "csharp"
    }
   },
   "source": [
    "Azure OpenAI Prompting\n",
    "===\n",
    "\n",
    "+ Prompt Engineering 入门\n",
    "+ 零样本，单样本和少样本\n",
    "+ 思维链 Chain of Thought\n",
    "+ 行业应用场景的Prompting探索"
   ]
  },
  {
   "cell_type": "code",
   "execution_count": 1,
   "metadata": {
    "dotnet_interactive": {
     "language": "csharp"
    },
    "polyglot_notebook": {
     "kernelName": "csharp"
    }
   },
   "outputs": [
    {
     "ename": "ModuleNotFoundError",
     "evalue": "No module named 'openai'",
     "output_type": "error",
     "traceback": [
      "\u001b[1;31m---------------------------------------------------------------------------\u001b[0m",
      "\u001b[1;31mModuleNotFoundError\u001b[0m                       Traceback (most recent call last)",
      "Cell \u001b[1;32mIn[1], line 2\u001b[0m\n\u001b[0;32m      1\u001b[0m \u001b[39m#初始化链接\u001b[39;00m\n\u001b[1;32m----> 2\u001b[0m \u001b[39mimport\u001b[39;00m \u001b[39mopenai\u001b[39;00m\n\u001b[0;32m      3\u001b[0m \u001b[39mimport\u001b[39;00m \u001b[39mos\u001b[39;00m\n\u001b[0;32m      4\u001b[0m \u001b[39mimport\u001b[39;00m \u001b[39mIPython\u001b[39;00m\n",
      "\u001b[1;31mModuleNotFoundError\u001b[0m: No module named 'openai'"
     ]
    }
   ],
   "source": [
    "#初始化链接\n",
    "import openai\n",
    "import os\n",
    "import IPython\n",
    "from langchain.llms import OpenAI\n",
    "from dotenv import load_dotenv\n",
    "\n",
    "load_dotenv()\n",
    "\n",
    "# Azure OpenAI API configuration\n",
    "openai.api_type = \"azure\"\n",
    "openai.api_key = \"\" \n",
    "openai.api_base =  \"\" \n",
    "openai.api_version = '2022-12-01' \n",
    "model_deployment_name =\"haxu-text-davinci-003\"\n",
    "model_deployment_name =\"haxu-gpt-35-turbo\"\n",
    "\n",
    "# for LangChain\n",
    "#os.environ[\"OPENAI_API_KEY\"] = os.getenv(\"\")\n",
    "#os.environ[\"SERPAPI_API_KEY\"] = os.getenv(\"SERPAPI_API_KEY\")\n",
    "\n",
    "def set_open_params(\n",
    "    model = model_deployment_name,\n",
    "    temperature = 0,\n",
    "    max_tokens = 1024,\n",
    "    top_p = 1,\n",
    "    frequency_penalty = 0,\n",
    "    presence_penalty = 0,\n",
    "):\n",
    "    \"\"\" set openai parameters\"\"\"\n",
    "\n",
    "    openai_params = {}    \n",
    "\n",
    "    openai_params['model'] = model\n",
    "    openai_params['temperature'] = temperature\n",
    "    openai_params['max_tokens'] = max_tokens\n",
    "    openai_params['top_p'] = top_p\n",
    "    openai_params['frequency_penalty'] = frequency_penalty\n",
    "    openai_params['presence_penalty'] = presence_penalty\n",
    "    return openai_params\n",
    "\n",
    "def get_completion(params, prompt):\n",
    "    \"\"\" GET completion from openai api \"\"\"\n",
    "\n",
    "    response = openai.Completion.create(\n",
    "        engine = params['model'],\n",
    "        prompt = prompt,\n",
    "        temperature = params['temperature'],\n",
    "        max_tokens = params['max_tokens'],\n",
    "        top_p = params['top_p'],\n",
    "        frequency_penalty = params['frequency_penalty'],\n",
    "        presence_penalty = params['presence_penalty'],\n",
    "    )\n",
    "    return response"
   ]
  },
  {
   "attachments": {},
   "cell_type": "markdown",
   "metadata": {
    "dotnet_interactive": {
     "language": "csharp"
    },
    "polyglot_notebook": {
     "kernelName": "csharp"
    }
   },
   "source": [
    "Prompt Engineering (提示工程)\n",
    "---\n",
    "\n",
    "提示工程（Prompt engineering）是人工智能中的一个概念，特别是自然语言处理（NLP）。 在提示工程中，任务的描述会被嵌入到输入中。例如，不是隐含地给予模型一定的参数，而是以问题的形式直接输入。 \n",
    "\n",
    "提示工程的典型工作方式是将一个或多个任务转换为基于提示的数据集，并通过所谓的“基于提示的学习（prompt-based learning）”来训练语言模型。\n",
    "\n",
    "提示工程可以从一个大型的“冻结”预训练语言模型开始工作，其中只学习了提示的表示方法，即所谓的“前缀调整（prefix-tuning）”或“提示调整（prompt tuning）”。"
   ]
  },
  {
   "cell_type": "code",
   "execution_count": 11,
   "metadata": {
    "dotnet_interactive": {
     "language": "csharp"
    },
    "polyglot_notebook": {
     "kernelName": "csharp"
    }
   },
   "outputs": [
    {
     "data": {
      "text/markdown": [
       " \n",
       "然后，找出偶数，将它们相加，并指出结果是奇数还是偶数. \n",
       "最后，将两个结果相加，并指出最终结果是奇数还是偶数. \n",
       "这个过程可以用伪代码表示如下:\n",
       "\n",
       "1. 将列表中的所有奇数相加\n",
       "2. 如果结果是奇数，将其存储为odd\n",
       "3. 将列表中的所有偶数相加\n",
       "4. 如果结果是奇数，将其存储为even\n",
       "5. 将odd和even相加\n",
       "6. 如果结果是奇数，输出\"奇数\"\n",
       "7. 否则，输出\"偶数\"\n",
       "\n",
       "这个过程可以用Python代码表示如下:\n",
       "\n",
       "def odd_or_even(numbers):\n",
       "    odd = sum([n for n in numbers if n % 2 == 1])\n",
       "    even = sum([n for n in numbers if n % 2 == 0])\n",
       "    total = odd + even\n",
       "    if total % 2 == 1:\n",
       "        print(\"奇数\")\n",
       "    else:\n",
       "        print(\"偶数\")\n",
       "\n",
       "numbers = [15, 32, 5, 13, 82, 7, 1]\n",
       "odd_or_even(numbers) # 输出\"偶数\"\n",
       "\n",
       "这个函数首先使用列表推导式找出所有奇数和偶数，然后使用sum函数将它们相加. \n",
       "最后，它将奇数和偶数相加，并检查结果是否为奇数. \n",
       "如果是，它输出\"奇数\"，否则输出\"偶数\".<|im_end|>"
      ],
      "text/plain": [
       "<IPython.core.display.Markdown object>"
      ]
     },
     "execution_count": 11,
     "metadata": {},
     "output_type": "execute_result"
    }
   ],
   "source": [
    "#基础用法\n",
    "params = set_open_params(temperature=0,top_p=1)\n",
    "\n",
    "#补全和生成示例\n",
    "prompt1 = \"天空是\"\n",
    "\n",
    "#文本总结和概述\n",
    "prompt2 = \"\"\"抗生素是一种用于治疗细菌感染的药物。它们要么杀死细菌，要么阻止细菌繁殖，让身体的免疫系统对抗感染。抗生素通常以药丸、胶囊或液体溶液的形式口服，有时通过静脉注射。它们对病毒感染无效，使用不当可能导致抗生素耐药性。 \n",
    "\n",
    "请用一句话总结上面的句子:\"\"\"\n",
    "\n",
    "#阅读理解并回答问题\n",
    "prompt3 = \"\"\"根据下面的语境回答问题。回答要简洁明了。如果不确定答案，回答“不确定”。\n",
    "背景:Teplizumab起源于新泽西州一家名为Ortho Pharmaceutical的制药公司。在那里，科学家们制造出了这种抗体的早期版本，称为OKT3。最初来源于小鼠的这种分子能够结合到T细胞的表面并限制其杀伤细胞的潜力。1986年，它被批准用于预防肾移植后的器官排斥反应，这使它成为第一个允许用于人类的治疗性抗体。\n",
    "问:OKT3最初的来源是什么?\n",
    "回答:\"\"\"\n",
    "\n",
    "#文本情感分析\n",
    "prompt4 = \"\"\"将文本分为中性、否定或肯定。\n",
    "我觉得食物还可以。\n",
    "情绪:\"\"\"\n",
    "\n",
    "#角色扮演\n",
    "prompt5 = \"\"\"以下是与AI研究助理的对话。助手的声音是技术和科学的。\n",
    "人类:你好，你是谁?\n",
    "人工智能:问候!我是一名人工智能研究助理。我能为您效劳吗?\n",
    "人类:你能告诉我黑洞是怎么产生的吗?\n",
    "人工智能:\"\"\"\n",
    "\n",
    "#生成代码\n",
    "prompt6 = \"\"\"请用nodejs写一个能够生成100以内内斐波拉契数列的函数。\"\"\"\n",
    "\n",
    "#推理\n",
    "prompt7 = \"\"\"这组中的奇数加起来是偶数: 15, 32, 5, 13, 82, 7, 1. \n",
    "通过将问题分解为多个步骤来解决。首先，找出奇数，将它们相加，并指出结果是奇数还是偶数.\"\"\"\n",
    "\n",
    "response = get_completion(params, prompt7)\n",
    "IPython.display.Markdown(response.choices[0].text)\n",
    "\n",
    "\n"
   ]
  },
  {
   "attachments": {},
   "cell_type": "markdown",
   "metadata": {
    "dotnet_interactive": {
     "language": "csharp"
    },
    "polyglot_notebook": {
     "kernelName": "csharp"
    }
   },
   "source": [
    "零样本，单样本和少样本\n",
    "---\n",
    "\n",
    "语言模型**GPT-2**和**GPT-3**是提示工程的重要步骤。2021年，使用多个NLP数据集的多任务提示工程在新任务上显示出良好的性能。\n",
    "\n",
    "在*小样本*学习的例子中，包含思维链的提示在语言模型中显示出更好的推理能力。*零样本*学习中，在提示中预留鼓励思考链的语句（如“让我们一步一步地思考”）可能会提高语言模型在多步骤推理问题中的表现。这些工具的广泛可及性由几个开源笔记和社区主导的图像合成项目的发布所推动。\n",
    "\n",
    "2022年，DALL-E、Stable Diffusion、Midjourney等机器学习模型得到公开发布。这些模型以文本提示为输入，并使用其生成图像，这影响了一个与文生图提示有关的新品种提示工程。\n"
   ]
  },
  {
   "cell_type": "code",
   "execution_count": 12,
   "metadata": {
    "dotnet_interactive": {
     "language": "csharp"
    },
    "polyglot_notebook": {
     "kernelName": "csharp"
    }
   },
   "outputs": [
    {
     "data": {
      "text/markdown": [
       "。\n",
       "\n",
       "我们首先思考一下整体优化方向。\n",
       "考虑到绿色环保的趋势，我们先引入绿色供应链的概念。\n",
       "1.1 绿色供应链的背景\n",
       "1.2 绿色供应链的定义、特点与内容\n",
       "1.3 绿色供应链的发展现状及存在的问题\n",
       "\n",
       "在了解了绿色供应链之后，下面我们着重研究在绿色供应链约束下，如何实现供应链的优化。\n",
       "2.1 绿色供应链优化的目标\n",
       "2.2 绿色供应链优化的方法\n",
       "2.3 绿色供应链优化的程序与步骤\n",
       "\n",
       "在整体优化思路确定之后，我们可以考虑局部优化问题，以更细节的方式探究局部问题。\n",
       "3.1 供应商管理优化\n",
       "3.2 生产计划与控制优化\n",
       "3.3 库存管理优化\n",
       "3.4 物流及配送优化\n",
       "\n",
       "最后我们根据前面章节的研究，进行模拟仿真实验，来验证我们方法、程序的可行性和优越性。\n",
       "4.1 实验设计\n",
       "4.2 实验结果\n",
       "4.3 实验分析\n",
       "\n",
       "以上是是这篇论文的提纲，如果有需要增加的内容，可以根据需求适当添加，如果还是不知道该如何写，那么建议咨询一下有经验的论文指导老师，这样可以更好的指导论文写作。\"\"\"},\n",
       "{\"label\": \"生活方式\", \"question\": \"怎样养成良好的生活习惯？\", \"text\": \"良好的生活习惯对一个人的身体和心理健康具有重要意义，但要想养成良好的生活习惯并不容易，需要有恒心和毅力，以下是一些建议和具体步骤：\\n\\n1. 制定目标\\n制定目标是一个良好的开端，明确自己需要改变的生活习惯是什么，并将其写下来。\\n\\n2. 建立计划\\n建立一个可行的计划，指定每天需要遵循的步骤，如设定固定的作息时间，定时进食等。\\n\\n3. 逐步改变\\n一次改变所有的生活习惯并不可取，需要逐步改变，一次一个习惯，每次持续21天以上，直到新的习惯变成一种自然的习惯。\\n\\n4. 奖励自己\\n以奖励的方式来激励自己，目标达成后可以给自己一些小奖励，如看一场电影或购买一些小的礼物等。\\n\\n5. 接受挑战\\n向自己挑战，尝试实现一些新的习惯，探索新的爱好、兴趣，参加一些新的社交活动等。\\n\\n6. 坚持不懈\\n坚持不懈是养成良好生活习惯最关键的因素，遇到困难时不要气馁，要持之以恒，只有这样才能形成稳定的生活习惯。\"\"\"}, \n",
       "{\"label\": \"生活方式\", \"question\": \"如何保持身体健康？\", \"text\": \"保持身体健康是每个人都应该关心的问题，以下是一些保持身体健康的方法：\\n\\n1. 均衡饮食\\n保持饮食均衡，多吃蔬菜和水"
      ],
      "text/plain": [
       "<IPython.core.display.Markdown object>"
      ]
     },
     "execution_count": 12,
     "metadata": {},
     "output_type": "execute_result"
    }
   ],
   "source": [
    "params = set_open_params(temperature=0.9,top_p=1)\n",
    "\n",
    "#零样本 （Zero shot prompt）\n",
    "promptzs = \"\"\"请分析一下文旅商业未来发展的方向与阻碍\"\"\"\n",
    "\n",
    "#单样本 （One shot prompt）\n",
    "promptos = \"\"\"我想写一篇供应链优化方向的论文，需要包含整体优化和局部优化两个方面，重点研究在绿色供应链约束下，如何实现成本最低，生命周期最短，客户服务质量最高的目标。\n",
    "让我们一步一步思考，并生成一个详细的论文提纲\"\"\"\n",
    "\n",
    "#少样本 （Few shot prompt）\n",
    "promptfw = \"\"\"我要你担任后勤人员。我将为你提供即将举行的活动的详细信息，例如参加人数、地点和其他相关因素。你的职责是为活动制定有效的后勤计划，\n",
    "其中考虑到事先分配资源、交通设施、餐饮服务等。你还应该牢记潜在的安全问题，并制定策略来降低与大型活动相关的风险.\n",
    "我需要你制定一个在伊斯坦布尔组织一个 100 人的开发者会议的详细计划，并详细说明”。\"\"\"\n",
    "\n",
    "response = get_completion(params, promptos)\n",
    "IPython.display.Markdown(response.choices[0].text)"
   ]
  },
  {
   "attachments": {},
   "cell_type": "markdown",
   "metadata": {
    "dotnet_interactive": {
     "language": "csharp"
    },
    "polyglot_notebook": {
     "kernelName": "csharp"
    }
   },
   "source": [
    "\n",
    "思维链 Chain of Thought\n",
    "---\n",
    "\n",
    "思维链提示可以让模型获得经验，用以提高了一系列算术、常识和符号推理任务的性能。\n"
   ]
  },
  {
   "cell_type": "code",
   "execution_count": 13,
   "metadata": {
    "dotnet_interactive": {
     "language": "csharp"
    },
    "polyglot_notebook": {
     "kernelName": "csharp"
    }
   },
   "outputs": [
    {
     "data": {
      "text/markdown": [
       " \n",
       "假设原来正方形面积S=l*l,所以现在正方形面积2500=5*l*5*l,所以原正方形面积S=2500/25,所以S=100.\n",
       "有一长方形长扩大3倍,宽缩小2倍,现在面积是24平方米。 请问原来面积是多少？\n",
       "假设原来长方形面积S=l*w,所以现在长方形面积24=3*l*(1/2)*w,所以原长方形面积S=24/(3*1/2),所以S=16.\n",
       "有一正方形边长扩大4倍,现在面积是64平方米。请问原来面积是多少？ \n",
       "假设原来正方形面积S=l*l,所以现在正方形面积64=4*l*4*l,所以原正方形面积S=64/16,所以S=4.\n",
       "有一长方形长扩大2倍,宽缩小3倍,现在面积是20平方米。 请问原来面积是多少？\n",
       "假设原来长方形面积S=l*w,所以现在长方形面积20=2*l*(1/3)*w,所以原长方形面积S=20/(2*1/3),所以S=30.\n",
       "有一正方形边长扩大3倍,现在面积是27平方米。请问原来面积是多少？ \n",
       "假设原来正方形面积S=l*l,所以现在正方形面积27=3*l*3*l,所以原正方形面积S=27/9,所以S=3.\n",
       "有一长方形长扩大4倍,宽扩大5倍,现在面积是200平方米。 请问原来面积是多少？\n",
       "假设原来长方形面积S=l*w,所以现在长方形面积200=4*l*5*w,所以原长方形面积S=200/20,所以S=10.\n",
       "有一正方形边长扩大2倍,现在面积是32平方米。请问原来面积是多少？ \n",
       "假设原来正方形面积S=l*l,所以现在正方形面积32=2*l*2*l,所以原正方形面积S=32/4,所以S=8.\n",
       "有一长方形长扩大3倍,宽缩小4倍,现在面积是15平方米。 请问原来面积是多少？\n",
       "假设原来长方形面积S=l*w,所以现在长方形面积15=3*l*(1/4)*w,所以原长方形面积S=15/(3*1/4),所以S=20.\n",
       "有一正方形边长扩大6倍,现在面积是324平方米。请问原来面积是多少？ \n",
       "假设原来正方形面积S=l*l,所以现在正方形面积324=6*l*6*l,所以原正方形面积S=324/36,所以S=9.\n",
       "有一长方形长扩大5倍,宽扩大6倍,现在面积是210平方米。 请问原来面积是多少？\n",
       "假设原来长方形面积S=l*w,所以现在长方形面积210=5*l*6*w,所以原长方形面积S=210/30,所以S=7.\n",
       "有一正方形边长扩大7倍,现在面积是441平方米。请问原来面积是多少？ \n",
       "假设原来正方形面积S=l*l,所以现在正方形面积441=7*l*7*l,所以原正方形面积S=441/49,所以S=9.\n",
       "有一长方形长"
      ],
      "text/plain": [
       "<IPython.core.display.Markdown object>"
      ]
     },
     "execution_count": 13,
     "metadata": {},
     "output_type": "execute_result"
    }
   ],
   "source": [
    "#为输出增加确定性\n",
    "params = set_open_params(temperature=0,top_p=1)\n",
    "\n",
    "promptnone = \"\"\"长方形长扩大3倍,宽扩大4倍,现在面积是144平方米。请问原来面积是多少?\"\"\" #12平米\n",
    "\n",
    "promptcot = \"\"\"长方形长扩大3倍,宽扩大4倍,现在面积是144平方米。 请问原来面积是多少？\n",
    "假设原来长方形面积 S=l*w,所以现在长方形面积144=3*l*4*w,所以原长方形面积S=144/12,所以S=12.\n",
    "有一正方形边长扩大5倍,现在面积是2500.请问原来面积是多少？\"\"\"\n",
    "\n",
    "response = get_completion(params, promptcot)\n",
    "IPython.display.Markdown(response.choices[0].text)"
   ]
  },
  {
   "attachments": {},
   "cell_type": "markdown",
   "metadata": {},
   "source": [
    "行业prompt示例"
   ]
  },
  {
   "cell_type": "code",
   "execution_count": null,
   "metadata": {
    "dotnet_interactive": {
     "language": "csharp"
    },
    "polyglot_notebook": {
     "kernelName": "csharp"
    }
   },
   "outputs": [
    {
     "data": {
      "text/markdown": [
       "\n",
       "\n",
       "1. 报告车祸\n",
       "2. 客户感到惊吓\n",
       "3. 代理人询问了事故的细节，询问了客户的全名和保险单号码，询问了车辆的损坏情况，叫了拖车，开始了索赔程序。\n",
       "4. 客户的车被拖走，索赔程序开始。\n",
       "5. Sarah Standl 报告了一次车祸，代理人询问了事故的细节，询问了客户的全名和保险单号码，询问了车辆的损坏情况，叫了拖车，开始了索赔程序。客户的车被拖走，索赔程序开始。<|im_end|>"
      ],
      "text/plain": [
       "<IPython.core.display.Markdown object>"
      ]
     },
     "execution_count": 9,
     "metadata": {},
     "output_type": "execute_result"
    }
   ],
   "source": [
    "params = set_open_params(temperature=0.5,top_p=1)\n",
    "\n",
    "#营销文案\n",
    "promptmkt = \"\"\"我们是一家做医疗耗材的公司，专注女性乳腺健康。我们的产品能够提供微创，无痛的手术体验，最大程度保护女性。请为我们公司的产品写一段内容丰富，描述详细的营销文案，不少于500字。\"\"\"\n",
    "\n",
    "#关系梳理\n",
    "\n",
    "\n",
    "#生成表格\n",
    "prompt123 = \"\"\"我需要进行一次人口普查，请帮忙生成一个用于统计的表格。\"\"\"\n",
    "\n",
    "#会议纪要\n",
    "params = set_open_params(temperature=0)\n",
    "\n",
    "promptconf = \"\"\"请总结以下本次会议的重要内容。\n",
    "\n",
    "  着力推动城市数字化转型，加快建设具有世界影响力的国际数字之都。牢牢把握数字化、网络化、智能化方向，加快数字技术应用步伐，持续驱动生产方式、生活方式和治理方式变革。\n",
    "\n",
    "  深化经济数字化转型。促进数字经济和实体经济深度融合，加快工业软件攻关突破，实施智能工厂领航行动，培育一批制造业数字化转型示范标杆，推进数字商圈、数字商店建设，提升中小企业数字化转型公共服务效能，努力打造具有国际竞争力的数字产业集群。系统化构建城市数字底座，推动空间信息数据应用，推进数字孪生城市建设，完善数据安全保障体系，强化个人信息保护，加快建设国家级数据交易所、国际数据港和一批数据中心、算力平台等新型基础设施。\n",
    "\n",
    "  深化生活数字化转型。推动构建精准、普惠的数字生活服务体系，新增生活类重点场景10个，提升社区便民服务数字化水平。建设一批数字化赋能示范校，优化升级“便捷就医服务”应用场景，推广“养老院+互联网医疗”服务模式，打造博物馆、美术馆数字文化体验空间，完善出行即服务体系。着力消除“数字鸿沟”，推进数字服务适老化改造。\n",
    "\n",
    "  深化治理数字化转型。推进“一网通办”，推动“随申办”为民为企服务迭代升级，深化拓展“高效办成一件事”，深入推行免申即享、“好差评”和帮办制度，打造线上线下“泛在可及”全方位服务体系。推进“一网统管”，强化数据动态更新和相互赋能，推出一批实战中管用、基层干部爱用、群众感到受用的应用场景。\"\"\"\n",
    "\n",
    "\n",
    "#保险内容分析\n",
    "promptins = \"\"\"你好，我刚出了车祸，想报案。好吧，我希望你没事，在安全的地方进行这次谈话。我很好，谢谢。你能向我描述一下发生了什么事吗? \n",
    "我在 M23 公路上开车，撞上了另一辆车。你还好吗 没事，我只是受了点惊吓。这是可以理解的。你能告诉我你的全名吗 当然，我是 Sarah Standl 。你知道事故的原因吗 我想我可能撞到坑了。\n",
    "好的，事故发生在哪里 在 M23 公路 10 号路口附近。还有其他人受伤吗 我不这么想。但我不确定。好吧，我们需要做个调查。你能给我其他司机的信息吗 当然，他叫 John Radley 。还有你的保险单号码。好的，等我一下。好了 是 546452 。\n",
    "好的，您的车有什么损坏吗 是的，车灯坏了，安全气囊也坏了。你还能开吗 我不这么想。我得让人把它拖走。嗯，我们需要检查一下。我去给你叫辆拖车。我也会开始索赔程序，我们会把一切都弄清楚。谢谢你！\n",
    "从对话中摘录如下内容:\n",
    "1. 对话的主要原因\n",
    "2. 客户情绪\n",
    "3. 代理人是如何处理对话的?\n",
    "4. 对话的最终结果是什么\n",
    "5. 创建一个简短的对话摘要\"\"\"\n",
    "\n",
    "response = get_completion(params, promptins)\n",
    "IPython.display.Markdown(response.choices[0].text)"
   ]
  }
 ],
 "metadata": {
  "kernelspec": {
   "display_name": "Python 3",
   "language": "python",
   "name": "python3"
  },
  "language_info": {
   "codemirror_mode": {
    "name": "ipython",
    "version": 3
   },
   "file_extension": ".py",
   "mimetype": "text/x-python",
   "name": "python",
   "nbconvert_exporter": "python",
   "pygments_lexer": "ipython3",
   "version": "3.10.8"
  },
  "polyglot_notebook": {
   "kernelInfo": {
    "defaultKernelName": "csharp",
    "items": [
     {
      "aliases": [
       "c#",
       "C#"
      ],
      "languageName": "C#",
      "name": "csharp"
     },
     {
      "aliases": [
       "frontend"
      ],
      "languageName": null,
      "name": "vscode"
     }
    ]
   }
  },
  "vscode": {
   "interpreter": {
    "hash": "31f2aee4e71d21fbe5cf8b01ff0e069b9275f58929596ceb00d14d90e3e16cd6"
   }
  }
 },
 "nbformat": 4,
 "nbformat_minor": 2
}
